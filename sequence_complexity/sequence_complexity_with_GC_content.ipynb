{
 "cells": [
  {
   "cell_type": "markdown",
   "metadata": {},
   "source": [
    "# Developing an algorithm to assess the relationship between nucleotide sequence complexity and GC content"
   ]
  },
  {
   "cell_type": "markdown",
   "metadata": {},
   "source": [
    "In this module we will be developing a simple algorithm for assessing the complexity of a nucleotide sequence and its relation to the GC content. The algorithm score is comprised of a scoring system that takes into account the total number of unique sub-strings within a nucleotide sequence, as well as the number of repeat sequences that are generated using Python regex. "
   ]
  },
  {
   "cell_type": "code",
   "execution_count": 1,
   "metadata": {},
   "outputs": [],
   "source": [
    "import re\n",
    "from itertools import permutations\n",
    "import pandas as pd\n",
    "import matplotlib.pyplot as plt"
   ]
  },
  {
   "cell_type": "markdown",
   "metadata": {},
   "source": [
    "Using Python regex a fasta sequence file can be parsed and the separation of the sequence header and the actual nucleotide sequence can be achieved. "
   ]
  },
  {
   "cell_type": "code",
   "execution_count": 2,
   "metadata": {},
   "outputs": [
    {
     "name": "stdout",
     "output_type": "stream",
     "text": [
      "100\n"
     ]
    }
   ],
   "source": [
    "fasta_file = \"path_to_bacterial_sequence/sequences.fa\"\n",
    "readfile = open(fasta_file, \"r\")\n",
    "# enable the parsers to read the file\n",
    "read = readfile.read()\n",
    "\n",
    "# regex to find any multi-line piece of text that contains only ATCG characters, which\n",
    "# stops at the headers that contain multi-character inputs other than nucleotides\n",
    "sequences = re.findall(r\"((?:[ATGC]+\\n)+)\", read)\n",
    "# verify the number of nucleotide sequences in the provided file\n",
    "print(len(sequences))"
   ]
  },
  {
   "cell_type": "markdown",
   "metadata": {},
   "source": [
    "The length of each nucleotide sequence is also retrieved. The length will be used as a normalizing factor for the complexity score.  "
   ]
  },
  {
   "cell_type": "code",
   "execution_count": 3,
   "metadata": {},
   "outputs": [
    {
     "name": "stdout",
     "output_type": "stream",
     "text": [
      "[1009, 1007, 1004, 1003, 1011, 1007, 1003, 1003, 1004, 1003, 1004, 1008, 1005, 1003, 1003, 1003, 1004, 1013, 1012, 1004, 1003, 1003, 1006, 1003, 1003, 1004, 1006, 1004, 1008, 1003, 1011, 1006, 1003, 1006, 1008, 1004, 1006, 1003, 1006, 1003, 1003, 1004, 1004, 1003, 1004, 1008, 1003, 1012, 1008, 1003, 1006, 1004, 1004, 1008, 1003, 1003, 1003, 1006, 1011, 1003, 1008, 1003, 1004, 1005, 1004, 1005, 1004, 1003, 1003, 1003, 1003, 1006, 1003, 1004, 1008, 1003, 1003, 1004, 1007, 1012, 1004, 1003, 1003, 1004, 1003, 1004, 1012, 1003, 1003, 1003, 1004, 1004, 1003, 1003, 1006, 1010, 1003, 1003, 1006, 1008]\n"
     ]
    }
   ],
   "source": [
    "sequence_lengths = []\n",
    "for i in sequences: \n",
    "    sequence_lengths.append(len(i))\n",
    "print(sequence_lengths)"
   ]
  },
  {
   "cell_type": "markdown",
   "metadata": {},
   "source": [
    "For each sequence, the GC content, expressed as the percentage of total bases that are either G or C, is computed. GC content is often an important indicator of sequence complexity and stability. "
   ]
  },
  {
   "cell_type": "code",
   "execution_count": 4,
   "metadata": {},
   "outputs": [
    {
     "name": "stdout",
     "output_type": "stream",
     "text": [
      "[54.112983151635284, 57.00099304865938, 56.77290836653386, 56.530408773678964, 57.467853610286845, 56.30585898709037, 57.82652043868395, 58.22532402791625, 56.17529880478088, 56.530408773678964, 56.374501992031874, 57.44047619047619, 57.014925373134325, 58.8235294117647, 56.03190428713859, 56.63010967098704, 57.17131474103586, 53.603158933859824, 58.794466403162055, 58.864541832669325, 53.33998005982054, 56.82951146560319, 54.97017892644135, 58.4247258225324, 58.22532402791625, 56.47410358565737, 60.536779324055665, 56.374501992031874, 56.6468253968254, 58.4247258225324, 57.467853610286845, 56.36182902584493, 57.926221335992025, 55.46719681908549, 56.051587301587304, 56.87250996015936, 58.05168986083499, 55.932203389830505, 57.05765407554672, 56.63010967098704, 56.03190428713859, 58.96414342629482, 56.57370517928287, 56.63010967098704, 55.278884462151396, 57.242063492063494, 56.33100697906281, 57.608695652173914, 54.464285714285715, 55.932203389830505, 58.34990059642147, 56.57370517928287, 57.86852589641434, 57.242063492063494, 60.019940179461614, 55.932203389830505, 58.32502492522433, 56.163021868787276, 57.17111770524233, 56.33100697906281, 57.73809523809524, 58.22532402791625, 54.48207171314741, 56.517412935323385, 57.27091633466136, 55.92039800995025, 54.581673306772906, 53.439680957128616, 57.128614157527416, 56.82951146560319, 55.33399800598205, 53.08151093439364, 59.22233300099701, 58.46613545816733, 56.34920634920635, 58.52442671984048, 56.03190428713859, 54.8804780876494, 55.41211519364449, 57.312252964426875, 55.179282868525895, 55.533399800598204, 57.6271186440678, 55.776892430278885, 54.7357926221336, 55.0796812749004, 56.42292490118577, 57.128614157527416, 57.42771684945164, 56.82951146560319, 57.669322709163346, 55.37848605577689, 54.636091724825526, 59.02293120638086, 53.77733598409543, 54.95049504950495, 58.92323030907278, 57.128614157527416, 58.54870775347913, 54.464285714285715]\n"
     ]
    }
   ],
   "source": [
    "gc_content = []\n",
    "for i in sequences: \n",
    "    gc_content.append(100 * (i.count(\"C\") + i.count(\"G\")) / len(i))\n",
    "\n",
    "print(gc_content)"
   ]
  },
  {
   "cell_type": "markdown",
   "metadata": {},
   "source": [
    "Similarly to the nucleotide sequence, regex is used to retrieve the sequence headers. "
   ]
  },
  {
   "cell_type": "code",
   "execution_count": 5,
   "metadata": {},
   "outputs": [],
   "source": [
    "sequence_identifiers = re.findall(\"Sequence.+\", read)\n",
    "sequence_identifiers = [int(s.strip('Sequence_')) for s in sequence_identifiers]"
   ]
  },
  {
   "cell_type": "markdown",
   "metadata": {},
   "source": [
    "In order to develop a scoring system for sequence complexity, we first generate the total number of unique sub-sequences or all lengths for each of the sequences in the fasta file. These values should assist in representing the amount of sequence complexity, where sequences with higher number of unique sub-strings will have greater complexity. "
   ]
  },
  {
   "cell_type": "code",
   "execution_count": 6,
   "metadata": {},
   "outputs": [],
   "source": [
    "def generate_substring_set(word, N):\n",
    "    return set([word[i : j + 1] for i in range(N) for j in range(i, N)])"
   ]
  },
  {
   "cell_type": "code",
   "execution_count": 7,
   "metadata": {},
   "outputs": [
    {
     "name": "stdout",
     "output_type": "stream",
     "text": [
      "[505402, 503405, 500326, 499353, 507460, 503395, 499315, 499336, 500380, 499362, 500346, 504336, 501369, 499302, 499322, 499351, 500294, 509478, 508414, 500305, 499325, 499323, 502391, 499336, 499361, 500305, 502352, 500370, 504415, 499226, 507460, 502321, 499316, 502321, 504422, 500360, 502288, 499342, 502374, 499295, 499322, 500284, 500332, 499323, 500343, 504391, 499356, 508410, 504369, 499292, 502245, 500344, 500322, 504408, 499312, 499345, 499303, 502359, 507440, 499383, 504285, 499319, 500376, 501364, 500299, 501347, 500361, 499316, 499330, 499323, 499317, 502384, 499297, 500315, 504407, 499261, 499321, 500369, 503429, 508393, 500310, 499324, 499300, 500367, 499369, 500324, 508467, 499330, 499322, 499306, 500367, 500362, 499337, 499315, 502382, 506379, 499305, 499309, 502364, 504369]\n"
     ]
    }
   ],
   "source": [
    "unique_occurrences = []\n",
    "for i in sequences: \n",
    "    unique_occurrences.append(len(generate_substring_set(i, len(i))))\n",
    "print(unique_occurrences)"
   ]
  },
  {
   "cell_type": "code",
   "execution_count": 8,
   "metadata": {},
   "outputs": [
    {
     "name": "stdout",
     "output_type": "stream",
     "text": [
      "    location  length  gc_content  unique_occurrences\n",
      "0          1    1009   54.112983              505402\n",
      "1          2    1007   57.000993              503405\n",
      "2          3    1004   56.772908              500326\n",
      "3          4    1003   56.530409              499353\n",
      "4          5    1011   57.467854              507460\n",
      "..       ...     ...         ...                 ...\n",
      "95        96    1010   54.950495              506379\n",
      "96        97    1003   58.923230              499305\n",
      "97        98    1003   57.128614              499309\n",
      "98        99    1006   58.548708              502364\n",
      "99       100    1008   54.464286              504369\n",
      "\n",
      "[100 rows x 4 columns]\n"
     ]
    }
   ],
   "source": [
    "full_frame = pd.DataFrame(list(zip(sequence_identifiers,sequence_lengths, gc_content, unique_occurrences)), \n",
    "                          columns = ['location', 'length', 'gc_content', \"unique_occurrences\"])\n",
    "print(full_frame)"
   ]
  },
  {
   "cell_type": "markdown",
   "metadata": {},
   "source": [
    "To assess the number of repetitive elements in each nucleotide sequence, a series of regex patterns are generated for elements of lengths up to 7 bp long. Each sequence is searched for the presence of these elements. In order to identify a repetitive region, the repetitive element must occur at least 4 times in a row. The regex is designed so that all unique permutations of nucleotide sequences that are 1 to 7 bp long will be searched, including repetitive regions of the same nucleotide (i.e. TTTTTTT). "
   ]
  },
  {
   "cell_type": "code",
   "execution_count": 21,
   "metadata": {
    "scrolled": true
   },
   "outputs": [
    {
     "name": "stdout",
     "output_type": "stream",
     "text": [
      "[A]{4,}|[T]{4,}|[G]{4,}|[C]{4,}|[TG]{4,}|[CT]{4,}|[TC]{4,}|[GC]{4,}|[TT]{4,}|[CA]{4,}|[GT]{4,}|[GG]{4,}|[CG]{4,}|[CC]{4,}|[AG]{4,}|[AT]{4,}|[AC]{4,}|[TA]{4,}|[GA]{4,}|[AA]{4,}|[CTT]{4,}|[ATC]{4,}|[CAA]{4,}|[TGT]{4,}|[CCC]{4,}|[GCG]{4,}|[AGA]{4,}|[AGG]{4,}|[CCT]{4,}|[GAT]{4,}|[CAG]{4,}|[ACT]{4,}|[CGG]{4,}|[GCA]{4,}|[ATA]{4,}|[TGC]{4,}|[GGT]{4,}|[TAT]{4,}|[TTA]{4,}|[CGA]{4,}|[CAT]{4,}|[TCT]{4,}|[ATG]{4,}|[GTT]{4,}|[GCC]{4,}|[TCC]{4,}|[TTG]{4,}|[TGG]{4,}|[AGC]{4,}|[GTC]{4,}|[TAC]{4,}|[GCT]{4,}|[CGC]{4,}|[AAT]{4,}|[CTG]{4,}|[CTA]{4,}|[TGA]{4,}|[TTT]{4,}|[TCA]{4,}|[TTC]{4,}|[GTA]{4,}|[GTG]{4,}|[ACA]{4,}|[AAC]{4,}|[GAC]{4,}|[ATT]{4,}|[TCG]{4,}|[CTC]{4,}|[GGG]{4,}|[GGA]{4,}|[TAG]{4,}|[TAA]{4,}|[ACG]{4,}|[CGT]{4,}|[AGT]{4,}|[CAC]{4,}|[CCA]{4,}|[CCG]{4,}|[GAA]{4,}|[ACC]{4,}|[GAG]{4,}|[GGC]{4,}|[AAG]{4,}|[AAA]{4,}|[CGCG]{4,}|[CCAC]{4,}|[AGTA]{4,}|[ATTA]{4,}|[TAGT]{4,}|[AAGT]{4,}|[GGAA]{4,}|[TATG]{4,}|[CCTT]{4,}|[CCAA]{4,}|[CACT]{4,}|[TCAG]{4,}|[TGGC]{4,}|[TGTG]{4,}|[GGCG]{4,}|[GACT]{4,}|[GCAG]{4,}|[CGTA]{4,}|[TGAG]{4,}|[CCCG]{4,}|[CAGT]{4,}|[TTTG]{4,}|[TCTT]{4,}|[TTGC]{4,}|[GTTC]{4,}|[CCGT]{4,}|[TATT]{4,}|[GACA]{4,}|[AGAA]{4,}|[TTAG]{4,}|[AGGC]{4,}|[GCTA]{4,}|[TCAA]{4,}|[GGCA]{4,}|[GATA]{4,}|[CGGC]{4,}|[GATT]{4,}|[ATAC]{4,}|[GGGC]{4,}|[CCCA]{4,}|[GCAC]{4,}|[CAAT]{4,}|[ATTG]{4,}|[ACTT]{4,}|[ACCT]{4,}|[AAAT]{4,}|[TCAC]{4,}|[CTGT]{4,}|[GGAT]{4,}|[GATC]{4,}|[GGAG]{4,}|[GGTC]{4,}|[ACAT]{4,}|[AACT]{4,}|[CTCA]{4,}|[GGGT]{4,}|[CCAG]{4,}|[TAAG]{4,}|[CTAA]{4,}|[CGAC]{4,}|[AATT]{4,}|[TTAA]{4,}|[TCCC]{4,}|[GCTG]{4,}|[CGTC]{4,}|[TGAA]{4,}|[GTTT]{4,}|[GCGT]{4,}|[GAGC]{4,}|[TCCT]{4,}|[CATG]{4,}|[TCCA]{4,}|[CTTA]{4,}|[GACC]{4,}|[GGTT]{4,}|[AGAC]{4,}|[CTGC]{4,}|[ATCT]{4,}|[AGGA]{4,}|[AGCC]{4,}|[AGTC]{4,}|[TACT]{4,}|[GGCT]{4,}|[GCGA]{4,}|[CAAC]{4,}|[GTAG]{4,}|[GCCC]{4,}|[ATAT]{4,}|[CTCG]{4,}|[CGGT]{4,}|[ACCA]{4,}|[AAAA]{4,}|[ATCA]{4,}|[AGGT]{4,}|[GTGC]{4,}|[TAGG]{4,}|[GAAT]{4,}|[GTCA]{4,}|[GCGC]{4,}|[TTCG]{4,}|[CTAG]{4,}|[CAGC]{4,}|[CGCA]{4,}|[CGCT]{4,}|[TCTC]{4,}|[CAGG]{4,}|[GAGA]{4,}|[CTTG]{4,}|[ATTC]{4,}|[CTAT]{4,}|[CTTC]{4,}|[GAAC]{4,}|[CACC]{4,}|[GTCG]{4,}|[GAAG]{4,}|[AAGC]{4,}|[TAGC]{4,}|[GCGG]{4,}|[AGGG]{4,}|[GCAA]{4,}|[ACTA]{4,}|[CCTC]{4,}|[AAGG]{4,}|[GCCT]{4,}|[ATAG]{4,}|[GCCA]{4,}|[ATGG]{4,}|[GTAA]{4,}|[CACA]{4,}|[CCAT]{4,}|[ACAG]{4,}|[AACG]{4,}|[TACG]{4,}|[CTAC]{4,}|[CTTT]{4,}|[ATTT]{4,}|[CTGG]{4,}|[CAAG]{4,}|[GTAC]{4,}|[CAGA]{4,}|[CGCC]{4,}|[TCTA]{4,}|[TTCA]{4,}|[CGGA]{4,}|[ATAA]{4,}|[GTGG]{4,}|[CGAG]{4,}|[GCCG]{4,}|[ACGC]{4,}|[ATGC]{4,}|[CGTG]{4,}|[ACAA]{4,}|[AACA]{4,}|[TACA]{4,}|[TGCT]{4,}|[ACGG]{4,}|[TTGA]{4,}|[CTCT]{4,}|[GAAA]{4,}|[TTTT]{4,}|[GTCT]{4,}|[GGTA]{4,}|[CCGG]{4,}|[TCGC]{4,}|[CAAA]{4,}|[CATC]{4,}|[AGTT]{4,}|[CCCT]{4,}|[ATGA]{4,}|[AGCT]{4,}|[GCAT]{4,}|[ACTG]{4,}|[TACC]{4,}|[TGAT]{4,}|[AGAG]{4,}|[AGAT]{4,}|[GGGA]{4,}|[ATCC]{4,}|[GTGA]{4,}|[TGTT]{4,}|[CACG]{4,}|[GATG]{4,}|[TCCG]{4,}|[TGGA]{4,}|[TTCT]{4,}|[GTCC]{4,}|[CCTG]{4,}|[AATA]{4,}|[TAAC]{4,}|[TTAT]{4,}|[TTGG]{4,}|[TGCG]{4,}|[CGTT]{4,}|[CTGA]{4,}|[CGGG]{4,}|[GTTA]{4,}|[CGAA]{4,}|[CGAT]{4,}|[GTGT]{4,}|[TCTG]{4,}|[TAAT]{4,}|[TTAC]{4,}|[AATC]{4,}|[TAAA]{4,}|[TGTC]{4,}|[GTAT]{4,}|[TTCC]{4,}|[GGGG]{4,}|[ACGA]{4,}|[GGTG]{4,}|[TGAC]{4,}|[ACCG]{4,}|[ACAC]{4,}|[ATCG]{4,}|[AACC]{4,}|[AAAG]{4,}|[TAGA]{4,}|[GGCC]{4,}|[ACCC]{4,}|[AAAC]{4,}|[ACTC]{4,}|[TCAT]{4,}|[TCGT]{4,}|[TCGA]{4,}|[AGTG]{4,}|[CCTA]{4,}|[CATT]{4,}|[CCCC]{4,}|[CATA]{4,}|[CCGA]{4,}|[TGCC]{4,}|[TATA]{4,}|[TTTC]{4,}|[ATGT]{4,}|[AGCA]{4,}|[ACGT]{4,}|[GTTG]{4,}|[CTCC]{4,}|[GAGT]{4,}|[GAGG]{4,}|[AATG]{4,}|[GCTT]{4,}|[CCGC]{4,}|[TGCA]{4,}|[TTGT]{4,}|[TATC]{4,}|[TGGG]{4,}|[TTTA]{4,}|[TCGG]{4,}|[GACG]{4,}|[AAGA]{4,}|[TGTA]{4,}|[AGCG]{4,}|[GGAC]{4,}|[GCTC]{4,}|[TGGT]{4,}|[TGTCC]{4,}|[GACGC]{4,}|[CGACT]{4,}|[ATACT]{4,}|[CCGGT]{4,}|[GGTTA]{4,}|[GTCCT]{4,}|[AGCCA]{4,}|[AACAA]{4,}|[CGTCC]{4,}|[TAATC]{4,}|[CGCGT]{4,}|[AATAC]{4,}|[GTTAG]{4,}|[AATTA]{4,}|[TCCAC]{4,}|[GACTA]{4,}|[CTTAA]{4,}|[TTGAA]{4,}|[CGAGT]{4,}|[CCGAC]{4,}|[TTCAC]{4,}|[TCCGT]{4,}|[CGCAC]{4,}|[TAACA]{4,}|[GGCGG]{4,}|[TTGCC]{4,}|[CCTAA]{4,}|[CCTGT]{4,}|[GGACT]{4,}|[CGAGC]{4,}|[GCCTG]{4,}|[TCCAT]{4,}|[CCTTG]{4,}|[TAATT]{4,}|[CGCGC]{4,}|[AACGA]{4,}|[CACAC]{4,}|[ACCCG]{4,}|[GTGCA]{4,}|[AATCG]{4,}|[GTTGA]{4,}|[ACTGC]{4,}|[ATAAT]{4,}|[GGGTT]{4,}|[TGTAT]{4,}|[TGTGG]{4,}|[ACGAC]{4,}|[TTTAA]{4,}|[CAACT]{4,}|[GGTCG]{4,}|[GATCG]{4,}|[TAGCC]{4,}|[TCGCA]{4,}|[TGAAC]{4,}|[TGCCC]{4,}|[TGTGT]{4,}|[GTATA]{4,}|[GTTGT]{4,}|[CTGGC]{4,}|[ACGAA]{4,}|[ACTAC]{4,}|[GGCTC]{4,}|[AGGGT]{4,}|[AGGAG]{4,}|[CTATC]{4,}|[TGGCG]{4,}|[ATAGG]{4,}|[TCCCT]{4,}|[CACTG]{4,}|[AAATT]{4,}|[CTCCA]{4,}|[GCTCA]{4,}|[ATATA]{4,}|[TAAAC]{4,}|[ACGAT]{4,}|[CTCTC]{4,}|[TTCCT]{4,}|[CCTCC]{4,}|[CCCCC]{4,}|[TCTGA]{4,}|[CATGG]{4,}|[GTGAA]{4,}|[CTCGG]{4,}|[TTATT]{4,}|[CGAGG]{4,}|[GCCTC]{4,}|[GTAGC]{4,}|[ATCCG]{4,}|[TCCTA]{4,}|[TCTGT]{4,}|[CCGTC]{4,}|[TCTAA]{4,}|[CCGAG]{4,}|[AGCCC]{4,}|[TCAAA]{4,}|[ACTTT]{4,}|[AACCC]{4,}|[TGACA]{4,}|[TGCAA]{4,}|[CTCTT]{4,}|[CCGAT]{4,}|[ATTGC]{4,}|[AGCGT]{4,}|[ACCTG]{4,}|[CTGAT]{4,}|[CTAAG]{4,}|[GTCCC]{4,}|[GGAAG]{4,}|[AGATG]{4,}|[CGCCT]{4,}|[CTATT]{4,}|[AAGTA]{4,}|[TGAGG]{4,}|[TTCTA]{4,}|[CAATC]{4,}|[GCGTT]{4,}|[TAAAA]{4,}|[GTCAG]{4,}|[CTGGT]{4,}|[GACAG]{4,}|[GAACG]{4,}|[AGATT]{4,}|[CACCC]{4,}|[TAGTA]{4,}|[TGGTC]{4,}|[GGAAT]{4,}|[TACTC]{4,}|[CTCAT]{4,}|[TCAGC]{4,}|[ATGCT]{4,}|[AAGAA]{4,}|[CGCCA]{4,}|[TCCCG]{4,}|[TTTAC]{4,}|[AAATG]{4,}|[CACTT]{4,}|[TAGTC]{4,}|[ATAAC]{4,}|[GCAAG]{4,}|[TCATG]{4,}|[GCCCG]{4,}|[GGGGA]{4,}|[TTAAC]{4,}|[AGCAT]{4,}|[TGCGC]{4,}|[GACAC]{4,}|[GAACC]{4,}|[CACGT]{4,}|[TGCTG]{4,}|[AAGGA]{4,}|[ACACG]{4,}|[TATGG]{4,}|[GCACT]{4,}|[CGGAT]{4,}|[AATGT]{4,}|[GCCAT]{4,}|[ATTGA]{4,}|[AGAGA]{4,}|[CAGCG]{4,}|[ACTCC]{4,}|[ACATT]{4,}|[AGTAA]{4,}|[GTCCA]{4,}|[CCGTT]{4,}|[AACAT]{4,}|[CTAGG]{4,}|[GCCGA]{4,}|[TTCCG]{4,}|[GCGAT]{4,}|[ATCGC]{4,}|[TTCAA]{4,}|[TCGAT]{4,}|[GCTAA]{4,}|[ATCTA]{4,}|[CGACA]{4,}|[ACGGG]{4,}|[TAACC]{4,}|[TCCAG]{4,}|[GCCTT]{4,}|[GCCGC]{4,}|[ATACC]{4,}|[CCGCA]{4,}|[GGACA]{4,}|[CGTTC]{4,}|[CAAAG]{4,}|[ATCTC]{4,}|[CTAGC]{4,}|[GACGA]{4,}|[TGGAT]{4,}|[TCCGA]{4,}|[AGTCG]{4,}|[GCGAC]{4,}|[CAACG]{4,}|[AGGCA]{4,}|[CTTTC]{4,}|[GGGCA]{4,}|[TGCGG]{4,}|[AATCA]{4,}|[TTACT]{4,}|[CCACC]{4,}|[GCATG]{4,}|[GGTCA]{4,}|[TTACG]{4,}|[TAGGC]{4,}|[CACCA]{4,}|[GAGAG]{4,}|[CAGTG]{4,}|[ACTGT]{4,}|[TATCG]{4,}|[GGGTC]{4,}|[GGTAC]{4,}|[AATGG]{4,}|[CGGAG]{4,}|[GCACG]{4,}|[GCCAG]{4,}|[CCACG]{4,}|[ACGCT]{4,}|[GAATA]{4,}|[GATTC]{4,}|[CACCT]{4,}|[GGAAC]{4,}|[TATTG]{4,}|[TTGCT]{4,}|[CCTGC]{4,}|[GCTGC]{4,}|[ACGGT]{4,}|[CCAGT]{4,}|[TACCT]{4,}|[AGCCG]{4,}|[AACAG]{4,}|[TCAAC]{4,}|[CTAGT]{4,}|[ACGGC]{4,}|[GCTGT]{4,}|[CTGTC]{4,}|[GCTAC]{4,}|[CTAAT]{4,}|[TGTCA]{4,}|[CCCCA]{4,}|[TCGAC]{4,}|[GTAGT]{4,}|[ATCGT]{4,}|[TCTAT]{4,}|[GCGCG]{4,}|[AAAGA]{4,}|[CTCTG]{4,}|[CCTCG]{4,}|[AAGCT]{4,}|[TCGGG]{4,}|[CAAGG]{4,}|[GGTAT]{4,}|[ATGGC]{4,}|[GGAAA]{4,}|[CTCAA]{4,}|[GTTTT]{4,}|[AGTTA]{4,}|[TATAC]{4,}|[GTCAT]{4,}|[AAATC]{4,}|[ACTAG]{4,}|[TAGTG]{4,}|[CTATA]{4,}|[AAGTT]{4,}|[CCACT]{4,}|[TTACC]{4,}|[AGGAA]{4,}|[TGGCA]{4,}|[CGCTG]{4,}|[ACGAG]{4,}|[GTTGC]{4,}|[GCTCG]{4,}|[TCACT]{4,}|[ATGCC]{4,}|[TCAGT]{4,}|[CCAAG]{4,}|[CACTA]{4,}|[CAACC]{4,}|[AGATC]{4,}|[TGGCT]{4,}|[TTGTA]{4,}|[ATGAA]{4,}|[CTGTT]{4,}|[TCTCT]{4,}|[CTACG]{4,}|[ATCCT]{4,}|[AAAGC]{4,}|[GCCGT]{4,}|[GTGAG]{4,}|[TCTGG]{4,}|[CGCGA]{4,}|[CACAT]{4,}|[CTGAC]{4,}|[TTTGC]{4,}|[ATTGT]{4,}|[GGACC]{4,}|[CTGCA]{4,}|[AACAC]{4,}|[TAACG]{4,}|[GGCGA]{4,}|[ACATC]{4,}|[CCTAG]{4,}|[ACTCT]{4,}|[TCCAA]{4,}|[CTTAC]{4,}|[TCTGC]{4,}|[AACGG]{4,}|[ACCCA]{4,}|[AATAT]{4,}|[GCCTA]{4,}|[TATTC]{4,}|[CCTGG]{4,}|[TTAAT]{4,}|[CGGTT]{4,}|[ACCGG]{4,}|[CACTC]{4,}|[GTGCG]{4,}|[TTTAT]{4,}|[CAACA]{4,}|[GTTGG]{4,}|[GCTCC]{4,}|[TCGCG]{4,}|[TTTCT]{4,}|[ATCAA]{4,}|[ACCGT]{4,}|[GGAGG]{4,}|[CGGTG]{4,}|[CGAAG]{4,}|[TTTAG]{4,}|[GAGAC]{4,}|[GAGGC]{4,}|[GTGCT]{4,}|[ATAAG]{4,}|[GGGTA]{4,}|[TGTAG]{4,}|[GGGGC]{4,}|[TAGGG]{4,}|[TCATA]{4,}|[TTCGT]{4,}|[GCGTC]{4,}|[CAATT]{4,}|[TCCCA]{4,}|[GTATC]{4,}|[AAATA]{4,}|[AGACA]{4,}|[ACACA]{4,}|[TAGCT]{4,}|[TGAAT]{4,}|[TGCCT]{4,}|[GTACC]{4,}|[TCGGC]{4,}|[CTTTG]{4,}|[GTCTC]{4,}|[AACCT]{4,}|[GGTTG]{4,}|[ACTTC]{4,}|[AGTAG]{4,}|[CGTTT]{4,}|[ATTGG]{4,}|[TACCA]{4,}|[AACGC]{4,}|[GGCCT]{4,}|[AATTG]{4,}|[ATTTA]{4,}|[CCCGT]{4,}|[CTACT]{4,}|[TCTCG]{4,}|[GAAGT]{4,}|[TGATA]{4,}|[TTCCA]{4,}|[GTCGC]{4,}|[GTGAT]{4,}|[ATACG]{4,}|[GCTTC]{4,}|[CCGCC]{4,}|[GCCGG]{4,}|[CGTTA]{4,}|[CGTCA]{4,}|[TCAAG]{4,}|[TTATC]{4,}|[TGACG]{4,}|[TGCAG]{4,}|[ATTTC]{4,}|[GACTC]{4,}|[TCCTC]{4,}|[TCTAG]{4,}|[TTGAC]{4,}|[CCGAA]{4,}|[TTCCC]{4,}|[CCTCT]{4,}|[CCCCT]{4,}|[ACCTA]{4,}|[CGGCT]{4,}|[TGTCG]{4,}|[CGTCT]{4,}|[AGCAC]{4,}|[TTCTG]{4,}|[GGCTT]{4,}|[TAGTT]{4,}|[ACTAT]{4,}|[AGATA]{4,}|[GTTTA]{4,}|[ATATC]{4,}|[ACAGG]{4,}|[GTGTC]{4,}|[ACGTA]{4,}|[AACTT]{4,}|[CAGTC]{4,}|[AAGCA]{4,}|[GGTAA]{4,}|[TACAC]{4,}|[TATCA]{4,}|[ATAGA]{4,}|[ATCAC]{4,}|[ACGTC]{4,}|[GGTGT]{4,}|[AAGAC]{4,}|[CGCCC]{4,}|[GAGAA]{4,}|[CACCG]{4,}|[TGGTG]{4,}|[ATATG]{4,}|[ACAGC]{4,}|[CGATC]{4,}|[TTAGG]{4,}|[AATCC]{4,}|[CCACA]{4,}|[ACTGG]{4,}|[TATCT]{4,}|[CAAGC]{4,}|[CTCGA]{4,}|[GTAAG]{4,}|[AGCCT]{4,}|[TTCAT]{4,}|[GCGAA]{4,}|[AGGTT]{4,}|[ATTCG]{4,}|[CGCAG]{4,}|[GGATG]{4,}|[AGAGT]{4,}|[TTGTT]{4,}|[CCTAC]{4,}|[GATGG]{4,}|[ATGAT]{4,}|[CTGTA]{4,}|[CCGCG]{4,}|[GGACG]{4,}|[CAAAA]{4,}|[CCGGC]{4,}|[CGTGT]{4,}|[CTGCG]{4,}|[GACGT]{4,}|[TGGAA]{4,}|[TCCGG]{4,}|[AGTCA]{4,}|[GATAA]{4,}|[CTTCA]{4,}|[CGTGG]{4,}|[CGGGG]{4,}|[CCCTA]{4,}|[GACCC]{4,}|[CTGCT]{4,}|[GACGG]{4,}|[GAAAC]{4,}|[GTCTG]{4,}|[CAAAT]{4,}|[GGTTC]{4,}|[GTACA]{4,}|[TACGG]{4,}|[AGGGC]{4,}|[TGGGG]{4,}|[GATTG]{4,}|[AAGGC]{4,}|[TGGGT]{4,}|[ATGTC]{4,}|[AGGAC]{4,}|[TACGT]{4,}|[AGGCT]{4,}|[GGGCT]{4,}|[AAACG]{4,}|[TCTTC]{4,}|[GTGGC]{4,}|[AGTGC]{4,}|[CGGTA]{4,}|[GCAAA]{4,}|[TGTAC]{4,}|[GCCCA]{4,}|[GGGAT]{4,}|[GGGGG]{4,}|[TTAGT]{4,}|[GCATC]{4,}|[CTCCT]{4,}|[ACGCA]{4,}|[ACACT]{4,}|[TGCTA]{4,}|[CAGGC]{4,}|[AAGGG]{4,}|[ATGGA]{4,}|[TATGA]{4,}|[CCAAA]{4,}|[GAATT]{4,}|[GTTCA]{4,}|[GCGGC]{4,}|[GGTGG]{4,}|[TCATT]{4,}|[GCAAT]{4,}|[TGAGC]{4,}|[GCCCT]{4,}|[AGCAG]{4,}|[TTCTC]{4,}|[CAATA]{4,}|[GGGAA]{4,}|[ATTCT]{4,}|[GATAC]{4,}|[AGGTG]{4,}|[GACCA]{4,}|[GAAAA]{4,}|[GGATT]{4,}|[CGCAT]{4,}|[CCAGA]{4,}|[TCGAG]{4,}|[TCCGC]{4,}|[GGCCA]{4,}|[CTACA]{4,}|[GTAAT]{4,}|[AGAAA]{4,}|[CAGCT]{4,}|[GGCGC]{4,}|[TTGCA]{4,}|[ACATG]{4,}|[AACCA]{4,}|[CCCAT]{4,}|[GATGC]{4,}|[ATTAT]{4,}|[CGGCG]{4,}|[CGACC]{4,}|[CGTCG]{4,}|[TGTCT]{4,}|[AGCGG]{4,}|[CTGAG]{4,}|[GCGCA]{4,}|[GAGTA]{4,}|[GCAGT]{4,}|[CTTGG]{4,}|[CCCCG]{4,}|[CATGC]{4,}|[ACTTG]{4,}|[AGTAC]{4,}|[AACTG]{4,}|[AGCTC]{4,}|[CTCAG]{4,}|[ATGCG]{4,}|[CAGGG]{4,}|[GAGCA]{4,}|[GGCTG]{4,}|[TGAGT]{4,}|[TCATC]{4,}|[CTATG]{4,}|[GCGTG]{4,}|[ACGTG]{4,}|[CAGAC]{4,}|[GGCAC]{4,}|[AAACC]{4,}|[GTGGG]{4,}|[TACAG]{4,}|[CCATG]{4,}|[GGTCC]{4,}|[TCACA]{4,}|[CACGA]{4,}|[AGTGT]{4,}|[CAGAT]{4,}|[TCTTT]{4,}|[CATCG]{4,}|[ACAAA]{4,}|[AGGCC]{4,}|[CTTTA]{4,}|[AGGAT]{4,}|[ATAGT]{4,}|[CTTCC]{4,}|[CCCGG]{4,}|[TAGAG]{4,}|[TTTTT]{4,}|[CCTTC]{4,}|[CCCTC]{4,}|[GAAGG]{4,}|[CACAA]{4,}|[ATACA]{4,}|[CATGT]{4,}|[CGTTG]{4,}|[TTATG]{4,}|[TGACC]{4,}|[TGCAC]{4,}|[ATTTG]{4,}|[TCTCA]{4,}|[CTCGT]{4,}|[TGATG]{4,}|[AGAAC]{4,}|[TGTTG]{4,}|[CATAT]{4,}|[TAATG]{4,}|[ACCCT]{4,}|[AATAA]{4,}|[AATTC]{4,}|[GTTAC]{4,}|[CTTCT]{4,}|[TGTTT]{4,}|[ACCAA]{4,}|[CATAG]{4,}|[AGAGC]{4,}|[CCTGA]{4,}|[CAGCC]{4,}|[GGCGT]{4,}|[ACTCG]{4,}|[GATAG]{4,}|[GTAAC]{4,}|[AGGTC]{4,}|[CGTGA]{4,}|[AAAAT]{4,}|[GTTCC]{4,}|[ACAAC]{4,}|[CGAAT]{4,}|[GCGGA]{4,}|[GGAGT]{4,}|[GATCT]{4,}|[TTTCA]{4,}|[GTACG]{4,}|[ACCGA]{4,}|[CATTC]{4,}|[AAAAG]{4,}|[ATAAA]{4,}|[TATCC]{4,}|[GCAAC]{4,}|[GCCCC]{4,}|[TGTAA]{4,}|[TTAAA]{4,}|[GGGTG]{4,}|[ATCAG]{4,}|[GCGGT]{4,}|[GGAGA]{4,}|[TAAGC]{4,}|[CGAAA]{4,}|[CGCTA]{4,}|[TCTTG]{4,}|[TATAA]{4,}|[AGTGG]{4,}|[CAGAG]{4,}|[GAGGA]{4,}|[CATCT]{4,}|[GAGCC]{4,}|[TGGTA]{4,}|[GATCC]{4,}|[TCAGG]{4,}|[TAGCA]{4,}|[TCGCC]{4,}|[AGACT]{4,}|[TGAAA]{4,}|[TGCCA]{4,}|[TACAT]{4,}|[CCAAT]{4,}|[GTTCT]{4,}|[AGGGA]{4,}|[CCATT]{4,}|[GTGGT]{4,}|[GGAGC]{4,}|[GGGCC]{4,}|[TTCGA]{4,}|[CGCTT]{4,}|[TTAGA]{4,}|[GAGTC]{4,}|[CGCGG]{4,}|[GTTAT]{4,}|[ACCTC]{4,}|[GTAAA]{4,}|[ATTAC]{4,}|[TAGAT]{4,}|[TTTTG]{4,}|[GATGA]{4,}|[CTGTG]{4,}|[CCGGG]{4,}|[CGGCC]{4,}|[GACCT]{4,}|[ATTCA]{4,}|[GAAAT]{4,}|[CGCAA]{4,}|[GGATA]{4,}|[TTTGA]{4,}|[GTCGA]{4,}|[CTTGT]{4,}|[GCAGG]{4,}|[ATCGG]{4,}|[GTAGG]{4,}|[GCGCT]{4,}|[CGGCA]{4,}|[ATTCC]{4,}|[ATTAG]{4,}|[CGTAC]{4,}|[TTGTC]{4,}|[GCTGG]{4,}|[CCCAA]{4,}|[CTACC]{4,}|[CTCCC]{4,}|[GTTTG]{4,}|[ACAGA]{4,}|[CGATG]{4,}|[AGTTT]{4,}|[AACTA]{4,}|[TCGTC]{4,}|[CAAGT]{4,}|[AAGCG]{4,}|[TCGGT]{4,}|[GGTAG]{4,}|[CTGGA]{4,}|[CCATC]{4,}|[GGCTA]{4,}|[ACAGT]{4,}|[TAAGG]{4,}|[TTGGT]{4,}|[CATTA]{4,}|[TCGTA]{4,}|[GGCAG]{4,}|[ACGCG]{4,}|[TACTG]{4,}|[GTGTG]{4,}|[AGCTA]{4,}|[GGGAG]{4,}|[CAGTT]{4,}|[ATGGG]{4,}|[GTTCG]{4,}|[GGTGA]{4,}|[CATTT]{4,}|[TCGTT]{4,}|[ACCAC]{4,}|[CGTAA]{4,}|[TACCG]{4,}|[CCAGG]{4,}|[AGGTA]{4,}|[CGTGC]{4,}|[GACCG]{4,}|[GAAAG]{4,}|[TATTT]{4,}|[TTGCG]{4,}|[ACATA]{4,}|[CCGTA]{4,}|[AGAAG]{4,}|[CGTAT]{4,}|[GCTTA]{4,}|[TTTCC]{4,}|[TGATC]{4,}|[CGGGT]{4,}|[TGGAG]{4,}|[AGTCT]{4,}|[GATAT]{4,}|[ACCAT]{4,}|[CCTTA]{4,}|[CCGCT]{4,}|[GTCTA]{4,}|[GCTTT]{4,}|[CTTCG]{4,}|[CATAA]{4,}|[TAGAC]{4,}|[CGGGA]{4,}|[CCCTG]{4,}|[CCCGC]{4,}|[GAATC]{4,}|[GATTA]{4,}|[GCATT]{4,}|[TGCTC]{4,}|[TATGC]{4,}|[TGTGA]{4,}|[ATCAT]{4,}|[TTAGC]{4,}|[GCGGG]{4,}|[TACGA]{4,}|[TTGGC]{4,}|[TGGGA]{4,}|[GGGAC]{4,}|[TGGCC]{4,}|[AAACA]{4,}|[CGCTC]{4,}|[GTATG]{4,}|[GTACT]{4,}|[AAAAA]{4,}|[TCACC]{4,}|[GATCA]{4,}|[ATGTA]{4,}|[ATATT]{4,}|[CACGG]{4,}|[TATGT]{4,}|[TGCTT]{4,}|[TACAA]{4,}|[GTGGA]{4,}|[CCATA]{4,}|[GGCAT]{4,}|[TAAGT]{4,}|[TTGGG]{4,}|[ACTGA]{4,}|[TATAT]{4,}|[GAGGT]{4,}|[ACCGC]{4,}|[CATCA]{4,}|[ACAAG]{4,}|[GCGCC]{4,}|[AGTCC]{4,}|[TCCTT]{4,}|[GCGAG]{4,}|[ATTTT]{4,}|[CCCGA]{4,}|[TAGAA]{4,}|[CGGGC]{4,}|[TGATT]{4,}|[GAAGA]{4,}|[TTATA]{4,}|[GACTG]{4,}|[TCTAC]{4,}|[TTGAG]{4,}|[CTTAG]{4,}|[GCAGC]{4,}|[TGTTC]{4,}|[GTTAA]{4,}|[AGCGA]{4,}|[CTGAA]{4,}|[ACCTT]{4,}|[TTTGG]{4,}|[GAGTT]{4,}|[GCAGA]{4,}|[TCAAT]{4,}|[TGACT]{4,}|[ACTTA]{4,}|[TGCAT]{4,}|[CTAAA]{4,}|[CTCGC]{4,}|[ATTAA]{4,}|[TTTGT]{4,}|[GAGTG]{4,}|[CTTGA]{4,}|[TACCC]{4,}|[ATGCA]{4,}|[CAGGA]{4,}|[CCAAC]{4,}|[AAGAT]{4,}|[ACGTT]{4,}|[CATCC]{4,}|[GAGCT]{4,}|[GGTGC]{4,}|[AAGTG]{4,}|[TGAGA]{4,}|[GCGTA]{4,}|[ATAGC]{4,}|[TTCTT]{4,}|[AAGAG]{4,}|[CGCCG]{4,}|[GAGCG]{4,}|[CAGGT]{4,}|[TAGCG]{4,}|[AGTTC]{4,}|[TGAAG]{4,}|[TGCCG]{4,}|[TCTTA]{4,}|[AGTGA]{4,}|[TATAG]{4,}|[ACAAT]{4,}|[CAGAA]{4,}|[AAAAC]{4,}|[CGGTC]{4,}|[GAGGG]{4,}|[AAGTC]{4,}|[TAGGT]{4,}|[TTCGG]{4,}|[AGCAA]{4,}|[CAATG]{4,}|[GTCAC]{4,}|[AGGGG]{4,}|[GAATG]{4,}|[CTCCG]{4,}|[GTTTC]{4,}|[AATTT]{4,}|[TCGAA]{4,}|[ACCCC]{4,}|[GGCCG]{4,}|[CTTAT]{4,}|[TTGAT]{4,}|[CGAGA]{4,}|[GACTT]{4,}|[CATAC]{4,}|[CTTGC]{4,}|[TATTA]{4,}|[CATGA]{4,}|[AGTAT]{4,}|[CAAAC]{4,}|[AACCG]{4,}|[ATCCA]{4,}|[CCGGA]{4,}|[GGTTT]{4,}|[TCCTG]{4,}|[TTTTA]{4,}|[TGGAC]{4,}|[AACGT]{4,}|[TAATA]{4,}|[AATAG]{4,}|[ATCCC]{4,}|[TCTCC]{4,}|[GCTTG]{4,}|[CCTTT]{4,}|[TTTTC]{4,}|[TGTTA]{4,}|[CCCTT]{4,}|[GTCTT]{4,}|[TAACT]{4,}|[ACTCA]{4,}|[CCTAT]{4,}|[ACCAG]{4,}|[CCAGC]{4,}|[AGACC]{4,}|[TTTCG]{4,}|[TCGCT]{4,}|[GTATT]{4,}|[TGCGA]{4,}|[GGTCT]{4,}|[GGGCG]{4,}|[AGGCG]{4,}|[TTCGC]{4,}|[AAACT]{4,}|[TTAAG]{4,}|[CGGAC]{4,}|[AATCT]{4,}|[TTACA]{4,}|[GATTT]{4,}|[GCATA]{4,}|[ACGCC]{4,}|[TGCGT]{4,}|[TCACG]{4,}|[TACTA]{4,}|[GCTCT]{4,}|[GTGTA]{4,}|[ATGGT]{4,}|[GGCAA]{4,}|[TAAGA]{4,}|[TCGTG]{4,}|[CATTG]{4,}|[CGAAC]{4,}|[AACTC]{4,}|[ATGTT]{4,}|[AGCTG]{4,}|[TACGC]{4,}|[TACTT]{4,}|[TGGGC]{4,}|[TGGTT]{4,}|[CTCAC]{4,}|[GTGTT]{4,}|[CACAG]{4,}|[CTAAC]{4,}|[GTCCG]{4,}|[CTAGA]{4,}|[CGTAG]{4,}|[AGAAT]{4,}|[TTGTG]{4,}|[AGAGG]{4,}|[CAGCA]{4,}|[ATGAG]{4,}|[CCCAC]{4,}|[GATGT]{4,}|[GCTAG]{4,}|[ATCTG]{4,}|[CGACG]{4,}|[CTGCC]{4,}|[ACGGA]{4,}|[AGCGC]{4,}|[TTCAG]{4,}|[CCGTG]{4,}|[GTAGA]{4,}|[ATCGA]{4,}|[AAAGT]{4,}|[GTCGG]{4,}|[GGATC]{4,}|[GCTGA]{4,}|[ATGAC]{4,}|[CCCAG]{4,}|[AAAGG]{4,}|[CTCTA]{4,}|[CCTCA]{4,}|[GTGAC]{4,}|[GAAGC]{4,}|[GTCGT]{4,}|[GGCCC]{4,}|[ACACC]{4,}|[CGATA]{4,}|[TAAAG]{4,}|[GTCAA]{4,}|[GACAA]{4,}|[GAACA]{4,}|[TCGGA]{4,}|[CAAGA]{4,}|[AATGC]{4,}|[TAAAT]{4,}|[GCACC]{4,}|[ACTAA]{4,}|[GCCAC]{4,}|[CACGC]{4,}|[AGTTG]{4,}|[CGATT]{4,}|[TCCCC]{4,}|[CTGGG]{4,}|[GACAT]{4,}|[GAACT]{4,}|[AAGGT]{4,}|[TCAGA]{4,}|[CGGAA]{4,}|[AATGA]{4,}|[GCACA]{4,}|[GCCAA]{4,}|[AGCTT]{4,}|[ATGTG]{4,}|[TAGGA]{4,}|[CAGTA]{4,}|[CTTTT]{4,}|[AAGCC]{4,}|[GGGGT]{4,}|[TGTGC]{4,}|[GAGAT]{4,}|[GTGCC]{4,}|[TTGGA]{4,}|[AGACG]{4,}|[ATCTT]{4,}|[GCTAT]{4,}|[GTCAAA]{4,}|[ATCGGC]{4,}|[GTCGAA]{4,}|[GTCGAT]{4,}|[CTTGTA]{4,}|[ACTAAC]{4,}|[ATGCAA]{4,}|[GGCCTC]{4,}|[TTCCCT]{4,}|[GCGCCA]{4,}|[AATTCC]{4,}|[TATCAT]{4,}|[GCTGGA]{4,}|[CTACCT]{4,}|[TAATGC]{4,}|[GTTCGA]{4,}|[CCTTCT]{4,}|[CGCCTC]{4,}|[GGTCAT]{4,}|[CTCAGT]{4,}|[TACTCT]{4,}|[GTCTGT]{4,}|[TCATGG]{4,}|[GTCTAC]{4,}|[CCCACA]{4,}|[CAGTTA]{4,}|[CAACTG]{4,}|[ATCCTA]{4,}|[GGCCAT]{4,}|[TACACG]{4,}|[TCGCTG]{4,}|[CAGGTG]{4,}|[CTGAGA]{4,}|[CTGGCC]{4,}|[CCACCA]{4,}|[GAGGAC]{4,}|[GTGCAT]{4,}|[CGGGTA]{4,}|[CACCAG]{4,}|[CTTACT]{4,}|[CGGGCC]{4,}|[GATATT]{4,}|[TTACTT]{4,}|[AGCCAG]{4,}|[TCCTGT]{4,}|[TCCTGA]{4,}|[GCCCGT]{4,}|[TCCCAC]{4,}|[GGTGCG]{4,}|[AAAGGC]{4,}|[TGGTGT]{4,}|[GTTTGC]{4,}|[GGCGTC]{4,}|[TTATCC]{4,}|[TTGTTG]{4,}|[GCACTT]{4,}|[TCCACG]{4,}|[ACTTAC]{4,}|[GTCCAA]{4,}|[CTTCAT]{4,}|[ATAGAC]{4,}|[GCAATA]{4,}|[ATGCGG]{4,}|[GCGGGA]{4,}|[GGGTCC]{4,}|[TTCGCT]{4,}|[TGGCGG]{4,}|[GTTTCA]{4,}|[CCTTAT]{4,}|[CCCGTC]{4,}|[TAGCGC]{4,}|[TGAAAT]{4,}|[GTGAAC]{4,}|[AACTGC]{4,}|[ATACCA]{4,}|[GCCACT]{4,}|[CGTTCA]{4,}|[CTACAC]{4,}|[GCGATG]{4,}|[ATCTAA]{4,}|[ACGCCG]{4,}|[TCAGCG]{4,}|[TTGCGC]{4,}|[CATTAC]{4,}|[AAGGCG]{4,}|[GTTCTC]{4,}|[GGTAAA]{4,}|[TGTCTC]{4,}|[AGGATA]{4,}|[AGTCCC]{4,}|[AGCCTC]{4,}|[TCCTGC]{4,}|[GCTTTA]{4,}|[TAGCAG]{4,}|[GTGAGG]{4,}|[ATGCGC]{4,}|[GGCACA]{4,}|[CATGAC]{4,}|[TGCTCA]{4,}|[GAGAGA]{4,}|[TCTGCT]{4,}|[GAAACC]{4,}|[TAGATA]{4,}|[AACCAT]{4,}|[TGTATT]{4,}|[CATAGG]{4,}|[GGAGCG]{4,}|[ATATGC]{4,}|[ACGAGT]{4,}|[TTTGTC]{4,}|[CTCCTT]{4,}|[GTCCCA]{4,}|[CCCCTA]{4,}|[GCTCCC]{4,}|[AGTCTC]{4,}|[AGCCCC]{4,}|[AGCTTT]{4,}|[ATGATG]{4,}|[CCTACG]{4,}|[GAGCGT]{4,}|[GCTGTT]{4,}|[CCATCA]{4,}|[ACCGGG]{4,}|[GACACG]{4,}|[CCATAT]{4,}|[CCCGGA]{4,}|[TAACAG]{4,}|[GACGTG]{4,}|[AGACAA]{4,}|[GGCTTA]{4,}|[CATTTA]{4,}|[TTTCTC]{4,}|[TATTCC]{4,}|[CTTGGC]{4,}|[CTCCAC]{4,}|[GATTAG]{4,}|[AGTGTC]{4,}|[CACAGT]{4,}|[GCGGTC]{4,}|[AGTGCG]{4,}|[GCGTTT]{4,}|[CATGAT]{4,}|[GACCGG]{4,}|[GCGTTG]{4,}|[ATGAAT]{4,}|[CTATGT]{4,}|[GCTACC]{4,}|[CGGATT]{4,}|[ACGCTG]{4,}|[TGATGG]{4,}|[AGTCCA]{4,}|[AGCCTA]{4,}|[TTCTAT]{4,}|[CCGGAA]{4,}|[GCATCT]{4,}|[AGTCTG]{4,}|[AGCTTC]{4,}|[AGCCCG]{4,}|[CAGTCC]{4,}|[GAGCGC]{4,}|[TTTGAG]{4,}|[TAAGCA]{4,}|[TATGCG]{4,}|[AATTGT]{4,}|[TACGGT]{4,}|[CACATA]{4,}|[CGGACA]{4,}|[TGGTCT]{4,}|[CCCCTC]{4,}|[GCGACA]{4,}|[GTTTAG]{4,}|[GCAAGC]{4,}|[GCCCGA]{4,}|[TTGTCG]{4,}|[GTAAGT]{4,}|[CATGCT]{4,}|[CCGCAA]{4,}|[TCTATG]{4,}|[CAAGGC]{4,}|[GGACGG]{4,}|[TCTGTG]{4,}|[GGCTCT]{4,}|[CCCCGG]{4,}|[AAGAAA]{4,}|[GCAGAC]{4,}|[GGGGCT]{4,}|[AGTTAC]{4,}|[GGTGTT]{4,}|[GGTGTA]{4,}|[TTACCA]{4,}|[TCGAGG]{4,}|[TTCGTG]{4,}|[GTTGGT]{4,}|[ACTTGA]{4,}|[TACTAA]{4,}|[CGGTTT]{4,}|[GGGTCG]{4,}|[TATTGC]{4,}|[TGTTGT]{4,}|[CTTGCC]{4,}|[CCAGGG]{4,}|[GGTTAT]{4,}|[CGGGCT]{4,}|[AGACCA]{4,}|[CCTTGG]{4,}|[TTCCAA]{4,}|[GCTTGC]{4,}|[GGAAGG]{4,}|[AGTCGA]{4,}|[TAGGTA]{4,}|[GGAACA]{4,}|[TAGGTT]{4,}|[GGGCAT]{4,}|[GGGCAA]{4,}|[TTTACC]{4,}|[CATCAC]{4,}|[CTCAAA]{4,}|[GCGCCG]{4,}|[TGATTA]{4,}|[GCGCTT]{4,}|[GAAATG]{4,}|[TATCCG]{4,}|[CTATCT]{4,}|[CTATTC]{4,}|[CTTCGT]{4,}|[CGGGAG]{4,}|[CCGAAC]{4,}|[GAGTAT]{4,}|[TATGGT]{4,}|[AAGTCT]{4,}|[CGAAAA]{4,}|[GCCTTC]{4,}|[TAGGAG]{4,}|[TAAATC]{4,}|[TCACAC]{4,}|[AAGCGT]{4,}|[CGCAAG]{4,}|[TTATAC]{4,}|[TCTCGC]{4,}|[CGTTGA]{4,}|[GTATGC]{4,}|[ACCACT]{4,}|[ACAGAC]{4,}|[TGTGGC]{4,}|[GCACGA]{4,}|[GACGCG]{4,}|[ATGCCA]{4,}|[AACAAT]{4,}|[CTCAGC]{4,}|[CGTAGT]{4,}|[GCACAG]{4,}|[TCAGAG]{4,}|[GTACGA]{4,}|[TAATGT]{4,}|[ATAAAA]{4,}|[AAGACG]{4,}|[AAACAA]{4,}|[AGTAGC]{4,}|[ACATAA]{4,}|[ACGACT]{4,}|[ATAAGG]{4,}|[AGATCA]{4,}|[CGACTA]{4,}|[AACTTG]{4,}|[TGTCAA]{4,}|[CCGTAC]{4,}|[GCATTG]{4,}|[AAGCAC]{4,}|[CGGCGG]{4,}|[ATAGGG]{4,}|[TGTGTT]{4,}|[AGACTT]{4,}|[AAATTC]{4,}|[GTATAA]{4,}|[GGAATC]{4,}|[ATACCG]{4,}|[AAAACT]{4,}|[ACTCTG]{4,}|[CCTCAA]{4,}|[GGTACT]{4,}|[GCAGTA]{4,}|[ATCTAG]{4,}|[ACGCCA]{4,}|[ACCCCG]{4,}|[ACCGTC]{4,}|[AAATAT]{4,}|[CACGCA]{4,}|[TGAGCC]{4,}|[TACAGT]{4,}|[CTACTA]{4,}|[CTAAGG]{4,}|[TAGAAA]{4,}|[CCCGTT]{4,}|[AGCCGG]{4,}|[AAGCAG]{4,}|[GGACCT]{4,}|[CCGGGG]{4,}|[CTGGAG]{4,}|[CCATGG]{4,}|[TTGTAC]{4,}|[CTAGGT]{4,}|[CTGACC]{4,}|[CCACGC]{4,}|[CCTAAA]{4,}|[CCCTGT]{4,}|[TGTTCA]{4,}|[GTCAGG]{4,}|[GCCCAC]{4,}|[GGCGTG]{4,}|[CCACAG]{4,}|[GCCCGG]{4,}|[AACATG]{4,}|[GGCTAA]{4,}|[AGAAGC]{4,}|[CCCTAG]{4,}|[CAGTGA]{4,}|[CGGTCC]{4,}|[CCCGGG]{4,}|[AGAGTT]{4,}|[AGATAT]{4,}|[TTGCAG]{4,}|[CACCCA]{4,}|[TGTCCG]{4,}|[AGAGAG]{4,}|[CTGCTA]{4,}|[GGATCA]{4,}|[ACTCGA]{4,}|[AGCGGT]{4,}|[CAGGAT]{4,}|[CGAGGG]{4,}|[CGCCAA]{4,}|[GGGGGT]{4,}|[TGACAC]{4,}|[TTCTGT]{4,}|[AAAAAC]{4,}|[GCCTAG]{4,}|[AGTACA]{4,}|[TCACGG]{4,}|[TTTTGT]{4,}|[GTGTGA]{4,}|[CAGAAC]{4,}|[TATCCC]{4,}|[CCAATC]{4,}|[GGGCCG]{4,}|[GGTCCA]{4,}|[ACCTGG]{4,}|[TAAACT]{4,}|[ACTGGT]{4,}|[TATCGG]{4,}|[CCGTGA]{4,}|[GTTCCT]{4,}|[TGTTAG]{4,}|[GGCCTG]{4,}|[ATCCCT]{4,}|[AGATTG]{4,}|[CGACCG]{4,}|[ATCCCG]{4,}|[AGATTT]{4,}|[AAACCA]{4,}|[AGGAGG]{4,}|[CGACCT]{4,}|[GCCGCC]{4,}|[CGGACG]{4,}|[GTCAAC]{4,}|[AGGCAT]{4,}|[CTTTCG]{4,}|[TCAATA]{4,}|[TTCAGC]{4,}|[ATGCTC]{4,}|[TTTCGG]{4,}|[AGCGAA]{4,}|[CCAATT]{4,}|[CGAGAT]{4,}|[AGCACA]{4,}|[TAACTG]{4,}|[GCTCTT]{4,}|[ATTCAA]{4,}|[GGTTGG]{4,}|[TCCAGC]{4,}|[CAGCTA]{4,}|[GAACGC]{4,}|[TGGAGT]{4,}|[ATAATA]{4,}|[CACCTA]{4,}|[GAGATA]{4,}|[GGGCGC]{4,}|[TAAATT]{4,}|[AACCGA]{4,}|[CGTATT]{4,}|[AGAGCT]{4,}|[GGTCCC]{4,}|[ATGGAG]{4,}|[TTGGGA]{4,}|[TCTTAA]{4,}|[TTCCCA]{4,}|[ATAGCC]{4,}|[ATCCAT]{4,}|[GCTATT]{4,}|[ACTATT]{4,}|[TCGTTC]{4,}|[ACAAAA]{4,}|[CTCAAG]{4,}|[CTCGTT]{4,}|[CGTAAA]{4,}|[TACCAT]{4,}|[GCAGGT]{4,}|[AATCCA]{4,}|[GGGTTT]{4,}|[GTGCTA]{4,}|[CGGAAC]{4,}|[AAGTAG]{4,}|[TGAGTT]{4,}|[GGGCTT]{4,}|[CGGGAA]{4,}|[CATCGG]{4,}|[CTGAAG]{4,}|[TCATGA]{4,}|[GTACTC]{4,}|[GCCCCG]{4,}|[GGACTT]{4,}|[ACGGCA]{4,}|[TGTTGC]{4,}|[CGTCGA]{4,}|[CCAGGC]{4,}|[GAACAA]{4,}|[TCTAAG]{4,}|[GGGAGG]{4,}|[TTCCGC]{4,}|[GGCAAA]{4,}|[GGGACG]{4,}|[GGGTGT]{4,}|[CGCAAA]{4,}|[TTGGCT]{4,}|[GAGCCC]{4,}|[TATGAA]{4,}|[GGGGCC]{4,}|[AGGTCG]{4,}|[TCAGGA]{4,}|[TTATTC]{4,}|[CCTAGC]{4,}|[GGCAGT]{4,}|[CCCATA]{4,}|[CGATAC]{4,}|[ATTGCG]{4,}|[ACATTA]{4,}|[ACCGCC]{4,}|[GGTGCA]{4,}|[AAAAGG]{4,}|[CAATCC]{4,}|[ATATTG]{4,}|[TCTTCA]{4,}|[ATAAGT]{4,}|[ACCAGC]{4,}|[GCGTCT]{4,}|[TGCCAC]{4,}|[CGTTAC]{4,}|[AAATAC]{4,}|[TGCTTT]{4,}|[TAGGCC]{4,}|[TGCTTA]{4,}|[GATAGG]{4,}|[CAAGCC]{4,}|[GACTCC]{4,}|[GGCCGC]{4,}|[ATCTTT]{4,}|[CAAAAA]{4,}|[ACAATG]{4,}|[CGTACC]{4,}|[GGTATG]{4,}|[ACAGAA]{4,}|[ACGGTC]{4,}|[TGGTTG]{4,}|[AACAAC]{4,}|[AGCTAT]{4,}|[CTGCTC]{4,}|[CGATAG]{4,}|[TTTAGA]{4,}|[CATACC]{4,}|[GCAGTG]{4,}|[GGTAAG]{4,}|[AACCTA]{4,}|[GTATGT]{4,}|[GTAGCA]{4,}|[ACTCCA]{4,}|[AGTGCC]{4,}|[AGGTTA]{4,}|[TAATCC]{4,}|[ATGAGT]{4,}|[TGCTGG]{4,}|[CACCGA]{4,}|[CTAATG]{4,}|[TATTCA]{4,}|[TCCGTT]{4,}|[TTTCTT]{4,}|[CTATAT]{4,}|[CTTGGA]{4,}|[CTCCAA]{4,}|[TTAGGA]{4,}|[AAGCAA]{4,}|[CCAACC]{4,}|[ACTTAG]{4,}|[TATCTC]{4,}|[CGTTTG]{4,}|[ACGATT]{4,}|[TTGGAT]{4,}|[ACCGAT]{4,}|[CCAAGG]{4,}|[ACTGAG]{4,}|[AATGAC]{4,}|[AAAAAT]{4,}|[AGCTTA]{4,}|[GAGCGA]{4,}|[CTGTAA]{4,}|[ACCCTA]{4,}|[TCGGGG]{4,}|[GGCTGG]{4,}|[AGCCGC]{4,}|[TCATAT]{4,}|[ACAGGG]{4,}|[CGGTTC]{4,}|[TAGGGC]{4,}|[GATATA]{4,}|[TTCGTC]{4,}|[AATCAG]{4,}|[GTCTTG]{4,}|[ACAGCG]{4,}|[CGACAA]{4,}|[AAAGTT]{4,}|[TCTTTA]{4,}|[AGTCTA]{4,}|[AGCCCA]{4,}|[TGTAGC]{4,}|[AATTCG]{4,}|[GAGGCT]{4,}|[GGACCC]{4,}|[TGAATA]{4,}|[GTAAAA]{4,}|[CCTGAG]{4,}|[GGTAGT]{4,}|[ACGTTG]{4,}|[TTCAAA]{4,}|[GTCGGT]{4,}|[CACATG]{4,}|[TGCTCC]{4,}|[GAGAGC]{4,}|[GGCGAC]{4,}|[AAGACT]{4,}|[TGCGAG]{4,}|[GCCGAT]{4,}|[TCAATG]{4,}|[CGGCTA]{4,}|[CGCCCT]{4,}|[GCCAGC]{4,}|[ATCGCC]{4,}|[TGCGGT]{4,}|[CGGTAA]{4,}|[CCGCCT]{4,}|[GACCTT]{4,}|[GCATGA]{4,}|[TCCCAA]{4,}|[CGCGGA]{4,}|[ACTTCG]{4,}|[ATCAAA]{4,}|[CCGAGT]{4,}|[CGTCAT]{4,}|[GACATC]{4,}|[AGACAC]{4,}|[TTCCTT]{4,}|[CCCAAA]{4,}|[GCGTTC]{4,}|[TGGTCC]{4,}|[TTATGA]{4,}|[TCTCGG]{4,}|[CTAGTT]{4,}|[AGGGGT]{4,}|[GACCAA]{4,}|[TACTCA]{4,}|[GTCTGA]{4,}|[GGCGAT]{4,}|[GGGTCA]{4,}|[AACGCT]{4,}|[ATTGTT]{4,}|[TCTTTC]{4,}|[ATCCGT]{4,}|[TCTCCA]{4,}|[CGACGG]{4,}|[CTAGAA]{4,}|[CCGGAC]{4,}|[TGCAGG]{4,}|[GCGTGA]{4,}|[TAAGAC]{4,}|[GGATAA]{4,}|[TACATT]{4,}|[CAGGCT]{4,}|[ACAAAG]{4,}|[GGTGGG]{4,}|[ATTTGG]{4,}|[ATAACA]{4,}|[TTGATC]{4,}|[GAAAAA]{4,}|[GTTGCT]{4,}|[AACGAG]{4,}|[TACAAG]{4,}|[GTTGAA]{4,}|[AATATA]{4,}|[TATTTC]{4,}|[ATCTGT]{4,}|[TTTAGC]{4,}|[TTTTGG]{4,}|[ATGGAC]{4,}|[GTGACT]{4,}|[AAGGAA]{4,}|[ACCACA]{4,}|[AGCAAG]{4,}|[AACTGA]{4,}|[TAACCT]{4,}|[ATGCCT]{4,}|[TGTCCT]{4,}|[TAGGTC]{4,}|[CCCATG]{4,}|[GTTTTT]{4,}|[CCCACT]{4,}|[CAGTTT]{4,}|[ACCGAC]{4,}|[ATTAGA]{4,}|[GGTTAC]{4,}|[TTAATG]{4,}|[CCAGAA]{4,}|[GGATTC]{4,}|[GGATGT]{4,}|[TGCACA]{4,}|[ATTTCT]{4,}|[ATTTCA]{4,}|[TCTTCG]{4,}|[ATGGGG]{4,}|[CTAGCC]{4,}|[TGAAGC]{4,}|[CGAAGT]{4,}|[ACCTCG]{4,}|[GCGTAG]{4,}|[TTACTA]{4,}|[TCTGAG]{4,}|[TTCTTG]{4,}|[GCTTCA]{4,}|[CGCTAG]{4,}|[ACTAGC]{4,}|[GCTCAG]{4,}|[GCTACA]{4,}|[TATGAC]{4,}|[TGCTAT]{4,}|[TGGGAC]{4,}|[AGCTCT]{4,}|[TTCACT]{4,}|[TAATTG]{4,}|[TGGTGA]{4,}|[TTAAGC]{4,}|[TAGGGA]{4,}|[TGTTTC]{4,}|[ACGCTC]{4,}|[CCAAAC]{4,}|[TTACCT]{4,}|[GTAGGA]{4,}|[CCCCCC]{4,}|[TGGGCT]{4,}|[GCACAC]{4,}|[CTGGCA]{4,}|[ACGTCA]{4,}|[TTCCAT]{4,}|[CGATCG]{4,}|[GTCGCG]{4,}|[ATCTCA]{4,}|[GCGAGG]{4,}|[GGGTAA]{4,}|[GATCGT]{4,}|[GATCGA]{4,}|[CATTGG]{4,}|[ATATCC]{4,}|[GGCGTA]{4,}|[AATTTC]{4,}|[AAAGTC]{4,}|[TAAGGC]{4,}|[TGCGGC]{4,}|[TGGCTA]{4,}|[TGCCCG]{4,}|[TGTTTG]{4,}|[CGCCCC]{4,}|[AACGGC]{4,}|[TACACA]{4,}|[CAGGTA]{4,}|[CAGTGG]{4,}|[TCGGAC]{4,}|[AAAATG]{4,}|[CGCATA]{4,}|[TCGAAT]{4,}|[AGGCGT]{4,}|[GATACT]{4,}|[TGCTCT]{4,}|[GAGAGT]{4,}|[CAGACA]{4,}|[GTAGTG]{4,}|[GGTTTG]{4,}|[AATCTG]{4,}|[ATGGTA]{4,}|[ATTTAT]{4,}|[GGATCG]{4,}|[CGACGC]{4,}|[AATGTT]{4,}|[ACACTT]{4,}|[TGAGCG]{4,}|[ACACTA]{4,}|[TTAACG]{4,}|[TCACCA]{4,}|[GACAGT]{4,}|[GTAGAG]{4,}|[ACACGG]{4,}|[GCTGTA]{4,}|[ACTAAT]{4,}|[CATGTT]{4,}|[CTACAG]{4,}|[AATGAT]{4,}|[ACGGGA]{4,}|[ATCGGA]{4,}|[TCGTTT]{4,}|[AGGCTA]{4,}|[TCTGTC]{4,}|[CTCGTC]{4,}|[CGTCCA]{4,}|[ATGCGT]{4,}|[GTCACT]{4,}|[TCAAAT]{4,}|[AGCCAA]{4,}|[CCCCGC]{4,}|[CGCGTA]{4,}|[CCTGAA]{4,}|[ATAATC]{4,}|[ATACTG]{4,}|[AGCAGA]{4,}|[AGCGTT]{4,}|[CGAGTA]{4,}|[AGCGTG]{4,}|[CAGGGC]{4,}|[GTGTCG]{4,}|[CGGTTA]{4,}|[TATTAT]{4,}|[CTCCCT]{4,}|[CGGCTG]{4,}|[TCGGTA]{4,}|[ACATGT]{4,}|[AAGTGC]{4,}|[AAGCTC]{4,}|[TCCTCA]{4,}|[CCGTTC]{4,}|[CACTGG]{4,}|[CCCGAA]{4,}|[GCAGCG]{4,}|[CGGAAA]{4,}|[TAAAAA]{4,}|[TGGTAT]{4,}|[ATTCAG]{4,}|[TTAATC]{4,}|[CCGACC]{4,}|[CTTTAT]{4,}|[GTGGAG]{4,}|[CTTTAA]{4,}|[GGAGAT]{4,}|[GGTTGA]{4,}|[TGACAG]{4,}|[TCAGAC]{4,}|[TCAAGC]{4,}|[TAGATG]{4,}|[TGGAGA]{4,}|[GATGTT]{4,}|[CTTTTG]{4,}|[GTGGGT]{4,}|[TACTCG]{4,}|[AGGTCC]{4,}|[GTCTGG]{4,}|[GAGATG]{4,}|[AATCAC]{4,}|[TCACAG]{4,}|[CATCTT]{4,}|[TGCCAT]{4,}|[GTTTGT]{4,}|[GAAGAG]{4,}|[GGAACG]{4,}|[TGAGAA]{4,}|[TTCATC]{4,}|[TATAGG]{4,}|[TCTTAG]{4,}|[CTGATG]{4,}|[GTTCCC]{4,}|[CACGTC]{4,}|[CTGATT]{4,}|[GGATAG]{4,}|[CCGCGT]{4,}|[CCGCCC]{4,}|[GACCTC]{4,}|[AGACAG]{4,}|[CCTGGG]{4,}|[CCCTTT]{4,}|[CTGCAC]{4,}|[GCCAAG]{4,}|[CATAGA]{4,}|[GACAAA]{4,}|[CCACTA]{4,}|[GTTGAG]{4,}|[AACTAT]{4,}|[TCCGGG]{4,}|[CACGCC]{4,}|[CTGAAA]{4,}|[GCCCCA]{4,}|[ACCAAG]{4,}|[TCCGCT]{4,}|[AGTCAC]{4,}|[AGTGAT]{4,}|[CGTTAT]{4,}|[TTACAC]{4,}|[ATCGAG]{4,}|[GATTTT]{4,}|[TCAATC]{4,}|[TCCAAT]{4,}|[TGATGA]{4,}|[CAAAAC]{4,}|[AAGGAG]{4,}|[TAGTTT]{4,}|[GAAGAC]{4,}|[AGGGCT]{4,}|[GGAACC]{4,}|[AGGACT]{4,}|[TATCAC]{4,}|[TAGACG]{4,}|[GATTAA]{4,}|[TTCCCC]{4,}|[TCCTTA]{4,}|[ATTGCA]{4,}|[ACATTG]{4,}|[TGCTGC]{4,}|[GAGACC]{4,}|[GTACTG]{4,}|[GCAGGC]{4,}|[GACTAT]{4,}|[CTGACT]{4,}|[TACCCA]{4,}|[CCACGT]{4,}|[CAAATT]{4,}|[CCCTGC]{4,}|[AGTTTG]{4,}|[ATGTCT]{4,}|[CGGGGA]{4,}|[TTGTAT]{4,}|[GCAGAG]{4,}|[GCGCAA]{4,}|[TTGCCC]{4,}|[AAACTC]{4,}|[AAACCT]{4,}|[TCTTCT]{4,}|[TTCCGT]{4,}|[ATTTCG]{4,}|[ATGGGA]{4,}|[ATGGGT]{4,}|[CGCTCC]{4,}|[GCGCGG]{4,}|[GACTTA]{4,}|[TCGTAA]{4,}|[CTGTGC]{4,}|[AGTAAA]{4,}|[GGATCC]{4,}|[TACCGC]{4,}|[GAGAAC]{4,}|[CGTGGG]{4,}|[AAGATG]{4,}|[AAATGG]{4,}|[TAGCAT]{4,}|[GTGAGT]{4,}|[AGGTAT]{4,}|[TTTCAA]{4,}|[CTCTTT]{4,}|[ATTGAG]{4,}|[ACATCT]{4,}|[GGCTAC]{4,}|[TTCGAG]{4,}|[GCTGCC]{4,}|[AAGGCT]{4,}|[TTCGAT]{4,}|[CAGCAG]{4,}|[ATTACG]{4,}|[CCAATG]{4,}|[GGGCCC]{4,}|[AAACTT]{4,}|[AAACCC]{4,}|[TGTGTA]{4,}|[TTGGTA]{4,}|[TATTCG]{4,}|[ATTCCC]{4,}|[CTTGGG]{4,}|[CAAACT]{4,}|[CTCCAG]{4,}|[CCTGCA]{4,}|[CCGTAT]{4,}|[GATTAC]{4,}|[GCTAAG]{4,}|[TTCGTA]{4,}|[GATCAT]{4,}|[GTGCGT]{4,}|[TTATAG]{4,}|[ATCCAA]{4,}|[ACCCAG]{4,}|[GATCGG]{4,}|[TAGAGT]{4,}|[TCATTA]{4,}|[CCTTGA]{4,}|[ATTCAC]{4,}|[CCGACG]{4,}|[CAATAT]{4,}|[TTCAGT]{4,}|[GTTCAG]{4,}|[CCTCTT]{4,}|[AAGTGA]{4,}|[TCCTCC]{4,}|[GTTACT]{4,}|[TAGCCA]{4,}|[GAAAGG]{4,}|[CTGAGT]{4,}|[CCACCT]{4,}|[ACTAGG]{4,}|[AAATTA]{4,}|[TCCTGG]{4,}|[CGCAAT]{4,}|[ATGGTG]{4,}|[ATGTTT]{4,}|[CATGAG]{4,}|[GACCGT]{4,}|[GAATAG]{4,}|[ATTATA]{4,}|[TATGTG]{4,}|[CGTGTG]{4,}|[TCGCAG]{4,}|[TTCATT]{4,}|[ACACAG]{4,}|[GAGCAA]{4,}|[GCGTAT]{4,}|[TAGTCT]{4,}|[GTTTCG]{4,}|[CACACG]{4,}|[CGCGTG]{4,}|[ATGTGT]{4,}|[ACGTTA]{4,}|[TTCAAG]{4,}|[ACGTTT]{4,}|[CCCTTC]{4,}|[TCCCCC]{4,}|[ATAAAG]{4,}|[TATTGT]{4,}|[TTAACC]{4,}|[CTTGCT]{4,}|[AAGGAC]{4,}|[ACGGAT]{4,}|[GACAAC]{4,}|[ATGGTC]{4,}|[TCTCTT]{4,}|[TTGTTA]{4,}|[TAAATA]{4,}|[AAATCA]{4,}|[ACGTAA]{4,}|[ACCCCA]{4,}|[ACCCCT]{4,}|[TTTAAT]{4,}|[CATCCT]{4,}|[GCGGTA]{4,}|[CTTTGT]{4,}|[CAGTGC]{4,}|[CTTGTT]{4,}|[AGAAAC]{4,}|[TGATCC]{4,}|[TGTGCA]{4,}|[CAGTCG]{4,}|[CTTTAG]{4,}|[GTGGAT]{4,}|[CGTGAT]{4,}|[GGATTT]{4,}|[ATGTAC]{4,}|[AAACAC]{4,}|[TGTTCG]{4,}|[GTCAGA]{4,}|[CTACTG]{4,}|[ACTCAC]{4,}|[CGAGGC]{4,}|[TAATAA]{4,}|[ACGACC]{4,}|[CGCCGC]{4,}|[CCTACA]{4,}|[GGGACC]{4,}|[GCTTAT]{4,}|[AATTGC]{4,}|[CTGGTG]{4,}|[TAACCC]{4,}|[AAGCTA]{4,}|[CTGTGT]{4,}|[ACACCT]{4,}|[GGAGCA]{4,}|[CCAAAA]{4,}|[AGAAAG]{4,}|[TGATCG]{4,}|[CCATGA]{4,}|[AACAAG]{4,}|[CCACTG]{4,}|[CCCGCT]{4,}|[CAAATC]{4,}|[AAAGAC]{4,}|[ATGAAG]{4,}|[CTATGG]{4,}|[AAGAAC]{4,}|[AGTTGT]{4,}|[GTAGAT]{4,}|[ACGCGT]{4,}|[ACGCGG]{4,}|[GAAACG]{4,}|[AGGGCG]{4,}|[CACCAT]{4,}|[TACATC]{4,}|[TCACTA]{4,}|[CAGGCC]{4,}|[CCAGCC]{4,}|[TAGAAC]{4,}|[CATTCT]{4,}|[CGGGAT]{4,}|[AGGAAC]{4,}|[AAAGCC]{4,}|[TTCCAC]{4,}|[GCTTGA]{4,}|[CTCGAG]{4,}|[GCCTAA]{4,}|[ATATGT]{4,}|[CATACG]{4,}|[AACGGT]{4,}|[GATGAG]{4,}|[TAGTGT]{4,}|[CCCCCT]{4,}|[AGTCAA]{4,}|[TTGACA]{4,}|[CCGCGC]{4,}|[TTTGAA]{4,}|[GGGAAC]{4,}|[ACAAGT]{4,}|[ACCTGA]{4,}|[ACAAGA]{4,}|[ACCTGT]{4,}|[TAAACG]{4,}|[CCGTGG]{4,}|[TACGCA]{4,}|[TCCGTA]{4,}|[CTTCGC]{4,}|[GGCATT]{4,}|[TTAGGT]{4,}|[AAATGA]{4,}|[CCAGCG]{4,}|[AGTATT]{4,}|[TCGAGA]{4,}|[TCGAGT]{4,}|[CAGCTG]{4,}|[GCGACG]{4,}|[TCCTTC]{4,}|[CGTCAA]{4,}|[ATTGAA]{4,}|[CCGCTT]{4,}|[ATTGAT]{4,}|[ATTAAA]{4,}|[ACATCG]{4,}|[TTCCTA]{4,}|[CCGCTA]{4,}|[CCCAAT]{4,}|[ATGACT]{4,}|[GACCCT]{4,}|[ATTAGC]{4,}|[GACCCA]{4,}|[GGACGA]{4,}|[GGACGT]{4,}|[AGACCG]{4,}|[AGAACC]{4,}|[TGATAC]{4,}|[GAGGAG]{4,}|[TTAGCG]{4,}|[TTCGCC]{4,}|[GTTAGC]{4,}|[TAGTAC]{4,}|[CGGTGT]{4,}|[TGTAGT]{4,}|[TAAGTC]{4,}|[GCATAT]{4,}|[TGGCAT]{4,}|[TGATTG]{4,}|[CGCAGC]{4,}|[GAGCCG]{4,}|[TACTAG]{4,}|[GGGTTG]{4,}|[CAAGAA]{4,}|[ATCCAG]{4,}|[ATTCTC]{4,}|[AGTATC]{4,}|[TGGGAA]{4,}|[AGGGAG]{4,}|[GATGGG]{4,}|[GTGGTG]{4,}|[TGAAGT]{4,}|[CGAAGC]{4,}|[GGGAGA]{4,}|[AGTCGG]{4,}|[TTCTCA]{4,}|[ACAAGC]{4,}|[CCGGCT]{4,}|[AGACTC]{4,}|[GTTAAG]{4,}|[AAGTGG]{4,}|[CAGGGA]{4,}|[TATGAG]{4,}|[TTGCTT]{4,}|[GTTCTA]{4,}|[AGGTCA]{4,}|[ATGCCG]{4,}|[CCGATC]{4,}|[CGAATT]{4,}|[CGAATA]{4,}|[ATACGA]{4,}|[ACACTG]{4,}|[AGTTCG]{4,}|[ACGGCG]{4,}|[TTGGAC]{4,}|[AGTGAG]{4,}|[CGTCGG]{4,}|[CGCGCC]{4,}|[GGAGGT]{4,}|[GAATCG]{4,}|[TCGCGG]{4,}|[TGTCTG]{4,}|[GTGTTA]{4,}|[GCACGG]{4,}|[TGCTTG]{4,}|[GATAGA]{4,}|[ATAGGA]{4,}|[TCAGGG]{4,}|[ATAGGT]{4,}|[CACTCC]{4,}|[TCGGAT]{4,}|[AGGGGC]{4,}|[TGTATC]{4,}|[CCCGCC]{4,}|[ACCCGG]{4,}|[GCAACC]{4,}|[ATATCT]{4,}|[TGGTTA]{4,}|[AGAGAC]{4,}|[CGTGTC]{4,}|[TTCTAA]{4,}|[CCGGAT]{4,}|[TACTTC]{4,}|[AAAGTA]{4,}|[ACGGCC]{4,}|[TGTTGA]{4,}|[CGTCGC]{4,}|[AAGGGT]{4,}|[ATTACT]{4,}|[CGGCGA]{4,}|[TCCGGC]{4,}|[CACGCG]{4,}|[CATGGT]{4,}|[GCTTAC]{4,}|[GCCTGT]{4,}|[CAAAAG]{4,}|[ACGCCT]{4,}|[AATCTC]{4,}|[CGGAAG]{4,}|[ATTTGC]{4,}|[TGGGCA]{4,}|[TGGGTC]{4,}|[AGGTAG]{4,}|[ACTTAA]{4,}|[GAGTCT]{4,}|[CAATCT]{4,}|[CAGCCG]{4,}|[GAGTAA]{4,}|[GTAACC]{4,}|[GGTGAT]{4,}|[CTTAAA]{4,}|[ATAGAT]{4,}|[GTAGCG]{4,}|[AAGGTG]{4,}|[CCACAA]{4,}|[AGGTTG]{4,}|[CCACAT]{4,}|[GCACTC]{4,}|[GCACCA]{4,}|[CTTTGC]{4,}|[ATGCAG]{4,}|[TATAGA]{4,}|[TTATTT]{4,}|[GATGCG]{4,}|[GCCGTA]{4,}|[TGGTGC]{4,}|[GGCGTT]{4,}|[ACGTAC]{4,}|[GTGCCG]{4,}|[AGTTAG]{4,}|[ATCTAC]{4,}|[CATTAA]{4,}|[TACGCC]{4,}|[TCGCCG]{4,}|[TCCCTT]{4,}|[TGTCGC]{4,}|[GAAGCT]{4,}|[GGAAAT]{4,}|[AGAACG]{4,}|[AATAGA]{4,}|[TGATAG]{4,}|[CACTGC]{4,}|[TGGGTG]{4,}|[GTACGT]{4,}|[GGCGAA]{4,}|[ATGGCG]{4,}|[CTAGCA]{4,}|[ATTAGT]{4,}|[GGGTCT]{4,}|[AGTACG]{4,}|[ACCCTG]{4,}|[ATTGAC]{4,}|[GGCTAG]{4,}|[ACTCGT]{4,}|[AGCGGA]{4,}|[TCAACG]{4,}|[CGCCAT]{4,}|[GAAACA]{4,}|[GGCCAG]{4,}|[ACTATC]{4,}|[AATTCA]{4,}|[TTGCAA]{4,}|[CACCCG]{4,}|[CCCAGT]{4,}|[ATCAAC]{4,}|[TATCTT]{4,}|[CGCCTT]{4,}|[ACTGCG]{4,}|[CACGGT]{4,}|[CGTCTC]{4,}|[ATTTTT]{4,}|[GAACCA]{4,}|[CTCGGG]{4,}|[GGGCGT]{4,}|[ATCTGA]{4,}|[TACTGC]{4,}|[GTCTCC]{4,}|[GTCTTA]{4,}|[GCGCAT]{4,}|[TCACGA]{4,}|[CTACGC]{4,}|[CAACAG]{4,}|[TAATCT]{4,}|[TAGCCC]{4,}|[TAGTGG]{4,}|[AATACC]{4,}|[TATAAG]{4,}|[TAGAAT]{4,}|[AAGATA]{4,}|[TTACAG]{4,}|[CCAGCA]{4,}|[AACAGG]{4,}|[ACCAAC]{4,}|[GCTCCT]{4,}|[GACCAG]{4,}|[GAGCAC]{4,}|[CCGAAG]{4,}|[GAAAGC]{4,}|[TAAGCC]{4,}|[AAAGAG]{4,}|[TAAGGG]{4,}|[TTCCTG]{4,}|[GGTAAT]{4,}|[GCGTCC]{4,}|[AGCGAG]{4,}|[TATTTG]{4,}|[TCCCAG]{4,}|[TGTAAT]{4,}|[ATGGAA]{4,}|[TTGGGG]{4,}|[ACTGGC]{4,}|[TCATCC]{4,}|[GCTTTG]{4,}|[TGTGGG]{4,}|[CAGAGT]{4,}|[GTACCG]{4,}|[CGTAAG]{4,}|[AGCTCA]{4,}|[ACGGTT]{4,}|[CCGTCT]{4,}|[GTGATG]{4,}|[TAAAGT]{4,}|[TGACCT]{4,}|[ACGAGA]{4,}|[CTAAAT]{4,}|[CTAAAA]{4,}|[GTCCCG]{4,}|[TCACCT]{4,}|[GAACAG]{4,}|[CATAGT]{4,}|[CTCTCA]{4,}|[TCTCCG]{4,}|[ATACAT]{4,}|[TGCGTT]{4,}|[TACCGT]{4,}|[GTTCAA]{4,}|[GACTTC]{4,}|[AGCGAC]{4,}|[GGACGC]{4,}|[AACTGG]{4,}|[GTGGAC]{4,}|[AATCCG]{4,}|[TCTTGT]{4,}|[GGCGGT]{4,}|[GTGCTG]{4,}|[AACGAA]{4,}|[TTGGTC]{4,}|[TAGTTA]{4,}|[TATACA]{4,}|[TATACT]{4,}|[CTGGAC]{4,}|[AGACGT]{4,}|[TCTGAC]{4,}|[ACTCCC]{4,}|[AGTGCA]{4,}|[GCGTTA]{4,}|[TGCAAC]{4,}|[CTAGGC]{4,}|[GCTCAC]{4,}|[AGTCCG]{4,}|[AGCCTG]{4,}|[CAGCGG]{4,}|[TTGTCT]{4,}|[AGAGCC]{4,}|[TTAAAA]{4,}|[ACCGTG]{4,}|[AGAGTA]{4,}|[TCGGGT]{4,}|[ATCGTA]{4,}|[ACCTCA]{4,}|[TGTCTA]{4,}|[TGCGTC]{4,}|[TCGTCA]{4,}|[GAACGT]{4,}|[TGAGTC]{4,}|[TTGAGC]{4,}|[ATGTGG]{4,}|[CTAAAC]{4,}|[AGGGTC]{4,}|[TATGCT]{4,}|[CAACCG]{4,}|[ACTACT]{4,}|[ATCCAC]{4,}|[TAGGGG]{4,}|[TTCTAG]{4,}|[CACCCC]{4,}|[TAAATG]{4,}|[AAGAGT]{4,}|[GACGTC]{4,}|[AAGAGA]{4,}|[TGCTGA]{4,}|[AGCCAT]{4,}|[CACCGG]{4,}|[GAATGT]{4,}|[GAGACA]{4,}|[AACGAC]{4,}|[AAGAAG]{4,}|[GGGGCA]{4,}|[GCCGCT]{4,}|[GTCGCA]{4,}|[TTCGGA]{4,}|[GTGGCT]{4,}|[CGATAA]{4,}|[CGCTTC]{4,}|[TGATGC]{4,}|[CAGCCA]{4,}|[CGCGAT]{4,}|[GACGCC]{4,}|[GAGTAG]{4,}|[TCATGT]{4,}|[CCAGGA]{4,}|[TTTCGT]{4,}|[TCGATC]{4,}|[TATCCT]{4,}|[GTATCA]{4,}|[CTGTAG]{4,}|[GATTTA]{4,}|[CTGGCG]{4,}|[GTACAG]{4,}|[GGGCAG]{4,}|[AATACT]{4,}|[ACATGC]{4,}|[AATACA]{4,}|[AAGCTT]{4,}|[TAGGCT]{4,}|[GACGGA]{4,}|[TTGAGA]{4,}|[CGATCA]{4,}|[TCCAGG]{4,}|[TCCCGC]{4,}|[GTAGTA]{4,}|[TTCAGA]{4,}|[GCAGTC]{4,}|[GGAAGT]{4,}|[TGTATG]{4,}|[CGTACA]{4,}|[CGATGG]{4,}|[GAGGTC]{4,}|[TCGCCA]{4,}|[GCGCAC]{4,}|[CGCTCA]{4,}|[CGTGCT]{4,}|[TTCGAC]{4,}|[CGTGCA]{4,}|[GCTGCG]{4,}|[ATGTTA]{4,}|[GTCCGC]{4,}|[CTTGTC]{4,}|[CGGGTG]{4,}|[AACCTC]{4,}|[TTTACT]{4,}|[CATCAT]{4,}|[TACCAA]{4,}|[TAGCAC]{4,}|[CTGCCG]{4,}|[AGAATT]{4,}|[GTGAGC]{4,}|[CCTCGG]{4,}|[CGTGGC]{4,}|[TAAAAC]{4,}|[AGGTGG]{4,}|[GATCTC]{4,}|[CTCGAA]{4,}|[GGACTC]{4,}|[TCCCTC]{4,}|[AGATGG]{4,}|[TGTCGA]{4,}|[TGTCGT]{4,}|[GATTTC]{4,}|[AGATCG]{4,}|[CGACTG]{4,}|[AGAAGT]{4,}|[TGCCGA]{4,}|[TCCACA]{4,}|[GTCCAG]{4,}|[AGTCAT]{4,}|[GCAATG]{4,}|[GATGGC]{4,}|[AACTTA]{4,}|[TGTCAG]{4,}|[CACGAA]{4,}|[GTGGTC]{4,}|[AACCTT]{4,}|[GTATGA]{4,}|[GCAGCA]{4,}|[TTGTTT]{4,}|[AGTGTA]{4,}|[TCAAAG]{4,}|[ACTTCA]{4,}|[TCGCTC]{4,}|[GTCCGT]{4,}|[GTCGAC]{4,}|[TTGGTT]{4,}|[TTTCTG]{4,}|[CCTAGG]{4,}|[GTATAG]{4,}|[CAGAGC]{4,}|[GGTGCT]{4,}|[TTGTAA]{4,}|[TGTGCT]{4,}|[CCGAGG]{4,}|[GCGATA]{4,}|[ATACAC]{4,}|[TCCTAT]{4,}|[CGCTGA]{4,}|[TCACCC]{4,}|[AAAGGG]{4,}|[TTATGT]{4,}|[TTTATT]{4,}|[CTAGAG]{4,}|[TACGGC]{4,}|[TTAGCA]{4,}|[TGTGGA]{4,}|[GGTGGA]{4,}|[CCTGGA]{4,}|[TTCTAC]{4,}|[ATCAGT]{4,}|[TCGTCC]{4,}|[CCTTCG]{4,}|[CGAACG]{4,}|[TTAAGT]{4,}|[CGGATC]{4,}|[TGAGGT]{4,}|[CCGCGG]{4,}|[TGCTAC]{4,}|[TGGGAT]{4,}|[ACCCGC]{4,}|[GGTAAC]{4,}|[GACATG]{4,}|[AAACTA]{4,}|[CACTCA]{4,}|[TTCTCG]{4,}|[TTTGCC]{4,}|[TAACAA]{4,}|[CCGTAA]{4,}|[GACGTA]{4,}|[GGGCCT]{4,}|[ATAACG]{4,}|[ATGCTG]{4,}|[CACCTC]{4,}|[GGGTGG]{4,}|[TAACTC]{4,}|[TGTACA]{4,}|[GTGTAT]{4,}|[CTCCTC]{4,}|[ATCGAA]{4,}|[CCTCAC]{4,}|[GATAAG]{4,}|[GAATCA]{4,}|[AGGCCG]{4,}|[ATCCTT]{4,}|[ACTTGC]{4,}|[ACCGTA]{4,}|[AGAGTG]{4,}|[AGCAAA]{4,}|[GACTTG]{4,}|[TCGTAG]{4,}|[TCAGCC]{4,}|[TTCTTA]{4,}|[TTGCGG]{4,}|[TTCTCC]{4,}|[TAGACA]{4,}|[TAGCTG]{4,}|[TTCTTT]{4,}|[CGCGGT]{4,}|[CCGGCC]{4,}|[CAATTA]{4,}|[CTTAGT]{4,}|[CGAAGG]{4,}|[GATACC]{4,}|[GCGCTC]{4,}|[TACCCG]{4,}|[TAATTA]{4,}|[TGGTGG]{4,}|[CGCATC]{4,}|[TATACC]{4,}|[CTGGAT]{4,}|[GCGGAG]{4,}|[GGCACT]{4,}|[TTGCAC]{4,}|[TCTATA]{4,}|[TGTTCC]{4,}|[TGTTGG]{4,}|[GCGAAC]{4,}|[ATTACA]{4,}|[AGGGCC]{4,}|[AGCGAT]{4,}|[TTACTG]{4,}|[ATCACT]{4,}|[CCAATA]{4,}|[TGAATT]{4,}|[GAGTTT]{4,}|[GCGTGC]{4,}|[ATTAAT]{4,}|[GCTCTG]{4,}|[TCTAAC]{4,}|[ATGATC]{4,}|[TTTTAT]{4,}|[CTTATT]{4,}|[CAGATT]{4,}|[GGTGTG]{4,}|[TATATC]{4,}|[TCCGCC]{4,}|[CCTGTA]{4,}|[TTATAA]{4,}|[CGTTGC]{4,}|[AACCCC]{4,}|[GGGGTT]{4,}|[TGAAAA]{4,}|[TTATCT]{4,}|[CCCGCA]{4,}|[AACCGG]{4,}|[TACTTT]{4,}|[TGGATA]{4,}|[CAAGGT]{4,}|[GGCGCT]{4,}|[CGATTT]{4,}|[TGTGTG]{4,}|[TGACGA]{4,}|[GAGGGG]{4,}|[TCTCAA]{4,}|[AATGCT]{4,}|[GCCGTG]{4,}|[AATACG]{4,}|[TAGCCG]{4,}|[GAAAGA]{4,}|[ATCTCG]{4,}|[AGGGGA]{4,}|[AATCTA]{4,}|[CATTCA]{4,}|[AGAACA]{4,}|[AGGGTG]{4,}|[TGATAA]{4,}|[TCAGAT]{4,}|[TGGGTA]{4,}|[ACGGCT]{4,}|[CGTCGT]{4,}|[TAGCGA]{4,}|[CCGACA]{4,}|[GTGAAA]{4,}|[TGCACC]{4,}|[CGTGTA]{4,}|[ACGCTT]{4,}|[ATTTAA]{4,}|[TGTTTA]{4,}|[GGTTGC]{4,}|[TGGCGC]{4,}|[CATATT]{4,}|[CAAAGA]{4,}|[CTTACA]{4,}|[AAATGC]{4,}|[TATGAT]{4,}|[ACTAGA]{4,}|[AAATTG]{4,}|[CATAAG]{4,}|[AACCAC]{4,}|[AGGTGA]{4,}|[CACTTC]{4,}|[TACCTG]{4,}|[TTTTCC]{4,}|[GGCATA]{4,}|[TCTACT]{4,}|[TGCATC]{4,}|[GTGTCA]{4,}|[CGGAGT]{4,}|[TTTGCG]{4,}|[ATTATG]{4,}|[TATGTA]{4,}|[GAATAA]{4,}|[ACACGA]{4,}|[CTGTTC]{4,}|[GCTGTG]{4,}|[ATATTA]{4,}|[TTAGAG]{4,}|[TGCCGG]{4,}|[ATAACC]{4,}|[AATTTA]{4,}|[GTCCAT]{4,}|[GCAATT]{4,}|[TAAGTA]{4,}|[ACGTAG]{4,}|[AGGCTG]{4,}|[AAACGC]{4,}|[GGTCGT]{4,}|[CCCGAG]{4,}|[GTCGTT]{4,}|[GGAGTA]{4,}|[TGTCCC]{4,}|[GGTATA]{4,}|[ACTCAG]{4,}|[CGCCGG]{4,}|[GCTTGT]{4,}|[TGATTC]{4,}|[GTACGC]{4,}|[CCAGAT]{4,}|[CGGTTG]{4,}|[GGTTGT]{4,}|[GGTCTT]{4,}|[CTGTTT]{4,}|[GGTCTA]{4,}|[TTTAGT]{4,}|[GGGAGC]{4,}|[GAAATC]{4,}|[GCGGCT]{4,}|[AAAGAA]{4,}|[CTTCAC]{4,}|[TCCTCG]{4,}|[AGGCGC]{4,}|[AGCATT]{4,}|[AACGTC]{4,}|[TGGACG]{4,}|[CTAATA]{4,}|[CTAACC]{4,}|[CCAGTA]{4,}|[CAAGTG]{4,}|[TACGTG]{4,}|[CACGAC]{4,}|[AGCCGA]{4,}|[ACGAAG]{4,}|[TTTTCA]{4,}|[GGCATC]{4,}|[CGGCTC]{4,}|[GTTTAT]{4,}|[ACGGAC]{4,}|[TGAGGG]{4,}|[CGAACA]{4,}|[CGAACT]{4,}|[TTACTC]{4,}|[TCCCCT]{4,}|[TCCCCA]{4,}|[CTAAAG]{4,}|[ATCGCT]{4,}|[TAGTGC]{4,}|[GCCATT]{4,}|[TAATAG]{4,}|[CTGTAT]{4,}|[GCGATC]{4,}|[CAAGCT]{4,}|[TCAAGG]{4,}|[TTATGC]{4,}|[TGTAGA]{4,}|[ATTACC]{4,}|[GTCGGC]{4,}|[GGCTTT]{4,}|[TTAGGC]{4,}|[GCCAAA]{4,}|[AGAAAA]{4,}|[TGATCA]{4,}|[AGAGAA]{4,}|[CTGCTG]{4,}|[AGAGAT]{4,}|[CCTTTA]{4,}|[CCTTTT]{4,}|[GTTTAC]{4,}|[AGGATC]{4,}|[GATATG]{4,}|[GCAAGG]{4,}|[TTGCAT]{4,}|[CGGCCC]{4,}|[ATGAAA]{4,}|[CTATGA]{4,}|[GGAATG]{4,}|[GCAGAA]{4,}|[TGGTTT]{4,}|[CATACA]{4,}|[GTAATC]{4,}|[AAGTTC]{4,}|[TTAGTG]{4,}|[AGCATC]{4,}|[TCCCGA]{4,}|[TGGATC]{4,}|[CGGTAC]{4,}|[GCATGC]{4,}|[CCTCTC]{4,}|[TTGCTA]{4,}|[TTGACG]{4,}|[CAGATC]{4,}|[GTTGAC]{4,}|[GCGGGG]{4,}|[TAGCTA]{4,}|[TAGCTT]{4,}|[GGTCAC]{4,}|[GAACAC]{4,}|[ACACCC]{4,}|[GTCGGG]{4,}|[GTCTAA]{4,}|[GGGCTC]{4,}|[GCGCAG]{4,}|[GATCCA]{4,}|[GTAGAC]{4,}|[CGCAGG]{4,}|[AATGAA]{4,}|[GCTATC]{4,}|[GCCGGG]{4,}|[TCCATC]{4,}|[ATGCAC]{4,}|[CTCGCG]{4,}|[ACAGTT]{4,}|[CTGGGA]{4,}|[CCATTA]{4,}|[CTATGC]{4,}|[GTTGGA]{4,}|[TGCCGC]{4,}|[GAGCCA]{4,}|[TTTCAG]{4,}|[GAGGTT]{4,}|[TTTTTG]{4,}|[CACTAT]{4,}|[TCTAGT]{4,}|[AATAAC]{4,}|[TATTAA]{4,}|[CTCCCA]{4,}|[CTGAAT]{4,}|[GCCCCT]{4,}|[ACAACA]{4,}|[CAGCAA]{4,}|[AAGGGA]{4,}|[TTACGC]{4,}|[TCTCCT]{4,}|[TGGCGT]{4,}|[GAGAAT]{4,}|[GAGGAA]{4,}|[GCGTGG]{4,}|[CCTTAC]{4,}|[GTACAA]{4,}|[ATCGTC]{4,}|[GCTATG]{4,}|[ATGTGC]{4,}|[AGGACA]{4,}|[TCTTCC]{4,}|[GTTCTG]{4,}|[CGTACT]{4,}|[ACTTAT]{4,}|[GTGGCC]{4,}|[TCCTTT]{4,}|[CATTCG]{4,}|[TGCTTC]{4,}|[GACTCT]{4,}|[GGCCGT]{4,}|[TACCCC]{4,}|[TCGAGC]{4,}|[TCATTG]{4,}|[CTCTAC]{4,}|[AGACGA]{4,}|[CACAGG]{4,}|[ACTTCC]{4,}|[AGCGCA]{4,}|[CTTACG]{4,}|[CCGTTG]{4,}|[AAGCGG]{4,}|[CCCTCC]{4,}|[TCGCTT]{4,}|[CCATAG]{4,}|[CGGCAC]{4,}|[ATTGGC]{4,}|[GACGGC]{4,}|[AGTTCA]{4,}|[ACATAT]{4,}|[AGGCAG]{4,}|[TCGCAA]{4,}|[TGCACG]{4,}|[TTAGAA]{4,}|[TAGAGC]{4,}|[TCGATA]{4,}|[TCATTC]{4,}|[AATTTG]{4,}|[GCTGAG]{4,}|[CTCTGA]{4,}|[CACCAC]{4,}|[CGGGCG]{4,}|[GCGGTG]{4,}|[TCTTAC]{4,}|[GTTCCG]{4,}|[ACAATA]{4,}|[GGGTTC]{4,}|[CCTAGA]{4,}|[GCTACG]{4,}|[CGTAAC]{4,}|[ACAGAG]{4,}|[TTTAAA]{4,}|[ACCCGA]{4,}|[AAAACA]{4,}|[TTCGTT]{4,}|[CATCCA]{4,}|[GATCAA]{4,}|[CCTCCT]{4,}|[GAACTG]{4,}|[TCACGT]{4,}|[TTTAGG]{4,}|[CAATAC]{4,}|[GGTCTG]{4,}|[CGAGCA]{4,}|[GGTTTC]{4,}|[CGCTGG]{4,}|[CCGGTC]{4,}|[TGAGTA]{4,}|[AGAGGT]{4,}|[CATCGC]{4,}|[ATCACG]{4,}|[GGCAAC]{4,}|[GTAAGG]{4,}|[CGTGGT]{4,}|[GTTGTC]{4,}|[CTTCCG]{4,}|[ACTGTG]{4,}|[TACGTA]{4,}|[CCTCTA]{4,}|[GTTAAT]{4,}|[GGGGAC]{4,}|[AGGCCC]{4,}|[TCAGTG]{4,}|[TGAGGA]{4,}|[GACGAT]{4,}|[CTGTGA]{4,}|[ATGGCA]{4,}|[CTAGCG]{4,}|[AAGGCC]{4,}|[ATAATT]{4,}|[CCATGT]{4,}|[GTATAC]{4,}|[GCGGAC]{4,}|[TGTAAC]{4,}|[TCAAAC]{4,}|[CACTCG]{4,}|[AAAATA]{4,}|[CGCATG]{4,}|[GTCAAT]{4,}|[TCAAGA]{4,}|[AGGCTC]{4,}|[AAACGG]{4,}|[ACCCCC]{4,}|[TGTAGG]{4,}|[CCTATA]{4,}|[GGGGAT]{4,}|[GACTGT]{4,}|[CCAAAG]{4,}|[GGCCCT]{4,}|[TGACCA]{4,}|[ATGGTT]{4,}|[AGCTAC]{4,}|[TCTCTC]{4,}|[AGCACC]{4,}|[TGAGCA]{4,}|[CTGCTT]{4,}|[TTAACA]{4,}|[CCTTTG]{4,}|[GTCATA]{4,}|[GTCATT]{4,}|[GTTCGT]{4,}|[ATAGTA]{4,}|[TTTCGC]{4,}|[GTGTAG]{4,}|[ACGGAA]{4,}|[TCGTGT]{4,}|[CTGCGC]{4,}|[GATAAA]{4,}|[CGACAG]{4,}|[ACAACC]{4,}|[TCACTG]{4,}|[CTACCG]{4,}|[TATAAA]{4,}|[GTTACA]{4,}|[CCACTC]{4,}|[ACTGGA]{4,}|[CTTTGA]{4,}|[ACAAGG]{4,}|[TAAACA]{4,}|[ATACTA]{4,}|[TTTGGC]{4,}|[AACTTT]{4,}|[CAATTG]{4,}|[AGCGTA]{4,}|[AGGATT]{4,}|[GCCTTT]{4,}|[GCCTTA]{4,}|[GACCGC]{4,}|[CACGTG]{4,}|[GCGGAA]{4,}|[TGCAAT]{4,}|[TCTGCA]{4,}|[TCCTCT]{4,}|[ACTCGC]{4,}|[AACTAC]{4,}|[CGCCAC]{4,}|[TCCGAT]{4,}|[CTCGCA]{4,}|[GCTCTA]{4,}|[TGGAAT]{4,}|[CTTATG]{4,}|[CCCTCT]{4,}|[CCATTG]{4,}|[GTCCTG]{4,}|[AACAGA]{4,}|[CACTGT]{4,}|[GCAAAG]{4,}|[GCCCTA]{4,}|[GCGGGT]{4,}|[CCATCT]{4,}|[AATGGT]{4,}|[GCTAGC]{4,}|[AACTCT]{4,}|[TCGCCT]{4,}|[TCCCTG]{4,}|[TATTAG]{4,}|[CTTCTT]{4,}|[TCGTAC]{4,}|[CTCCCG]{4,}|[TCACAA]{4,}|[CGTTCT]{4,}|[TACCTC]{4,}|[CTTCGG]{4,}|[AAGTTG]{4,}|[TGACGG]{4,}|[GATGCT]{4,}|[TCTCAG]{4,}|[AGGGAT]{4,}|[CTCGTA]{4,}|[GCTATA]{4,}|[GTACCA]{4,}|[AGCGTC]{4,}|[CAGAGG]{4,}|[CAGGGG]{4,}|[GTACCT]{4,}|[ATTTCC]{4,}|[GAAGTG]{4,}|[CGCGTC]{4,}|[GGGTTA]{4,}|[TACAAA]{4,}|[AAAAGC]{4,}|[CAATCG]{4,}|[TGGAGC]{4,}|[AAGCAT]{4,}|[TCCGGA]{4,}|[GGACCG]{4,}|[ATAAAC]{4,}|[AGGGTA]{4,}|[ACCAAA]{4,}|[TAAGCT]{4,}|[GATGGA]{4,}|[GTGGTA]{4,}|[AGTGAA]{4,}|[CTCTCG]{4,}|[AGATCC]{4,}|[AATAAT]{4,}|[CGACTC]{4,}|[GATTCG]{4,}|[ATTTAG]{4,}|[GTATTG]{4,}|[GTCGTC]{4,}|[GTGCAG]{4,}|[GGCAAT]{4,}|[AGCTGA]{4,}|[CAAAGT]{4,}|[GAGCTA]{4,}|[AGCGCG]{4,}|[CCGTTA]{4,}|[ATCGTG]{4,}|[GCCAGG]{4,}|[GGTTCC]{4,}|[ATGCTT]{4,}|[TGACGC]{4,}|[TGCGGA]{4,}|[ACGAAC]{4,}|[GGCATG]{4,}|[TGAACC]{4,}|[AGACTG]{4,}|[TCGGAA]{4,}|[CAAGAC]{4,}|[CTTAGA]{4,}|[CAACAT]{4,}|[TGCCCC]{4,}|[GCCAAC]{4,}|[AATTTT]{4,}|[ATGGCC]{4,}|[CATATC]{4,}|[GTGTTG]{4,}|[GAAGAT]{4,}|[GGAACT]{4,}|[GATCGC]{4,}|[TTCGCA]{4,}|[AATTGG]{4,}|[GTTCAC]{4,}|[AATTAG]{4,}|[TATCTG]{4,}|[CGTTTC]{4,}|[TCTTTT]{4,}|[AGTCTT]{4,}|[AGCCCT]{4,}|[CGATCC]{4,}|[ATCCGA]{4,}|[TGGGCG]{4,}|[TTTGTT]{4,}|[TGACAT]{4,}|[AGGTAA]{4,}|[GGGCAC]{4,}|[CTCACT]{4,}|[CCGATT]{4,}|[CTCACA]{4,}|[ATATGA]{4,}|[CGGATG]{4,}|[TTGCTC]{4,}|[CAGATA]{4,}|[CAGACC]{4,}|[CGAGCG]{4,}|[GTAGGG]{4,}|[TACTGT]{4,}|[TCGACG]{4,}|[GTCTCT]{4,}|[GCTCGT]{4,}|[TCGGGC]{4,}|[AGATAC]{4,}|[CAATTC]{4,}|[CGAAAC]{4,}|[AAGGTA]{4,}|[AAGTCC]{4,}|[GCACCG]{4,}|[CATGCA]{4,}|[CCGCAT]{4,}|[CCGGCG]{4,}|[CCCAGC]{4,}|[TTGTGT]{4,}|[CAAGTA]{4,}|[TAACAT]{4,}|[ACTGTA]{4,}|[ACGTCG]{4,}|[CCTGCG]{4,}|[CCTCTG]{4,}|[GTGCCA]{4,}|[GTGCCT]{4,}|[GTGTTC]{4,}|[GGCTTC]{4,}|[TTCAGG]{4,}|[AACCAA]{4,}|[CTATCG]{4,}|[ACAATC]{4,}|[AATGCA]{4,}|[CGTACG]{4,}|[TCAGTA]{4,}|[CGCTAC]{4,}|[TCAGTT]{4,}|[GCGACC]{4,}|[CTGTGG]{4,}|[TTGGAA]{4,}|[ACCGAA]{4,}|[CTCCTG]{4,}|[TCCCCG]{4,}|[CTTAAG]{4,}|[CGCTCG]{4,}|[AAGATC]{4,}|[CGTAGA]{4,}|[TTAGCT]{4,}|[ATTGTA]{4,}|[GCGAAT]{4,}|[GGTTAG]{4,}|[AAACGA]{4,}|[GGCCAA]{4,}|[TTGAGG]{4,}|[CAATGG]{4,}|[AGTTAA]{4,}|[TCGGTC]{4,}|[ACGCCC]{4,}|[AGAATG]{4,}|[TCGGCA]{4,}|[TCGGCT]{4,}|[CATTAG]{4,}|[CTAACT]{4,}|[AAGGGC]{4,}|[GTTGCA]{4,}|[CTCGGA]{4,}|[CTCATG]{4,}|[ATCTGG]{4,}|[CGTGCG]{4,}|[TCTCAC]{4,}|[GGACAC]{4,}|[AGATGA]{4,}|[TATGGA]{4,}|[AAGTCA]{4,}|[ACACAA]{4,}|[CGAAAT]{4,}|[TTAGTA]{4,}|[CTACAA]{4,}|[TCTATT]{4,}|[CTTAAC]{4,}|[ACGGGG]{4,}|[CGTCCG]{4,}|[CACGAG]{4,}|[ATTCGT]{4,}|[CCCGGC]{4,}|[ATTTGT]{4,}|[GCTGAT]{4,}|[CTGTCT]{4,}|[TACGGA]{4,}|[CCTCGA]{4,}|[AACGGG]{4,}|[AACCCA]{4,}|[CTATTA]{4,}|[GCGCGT]{4,}|[TTCAAT]{4,}|[GTCGGA]{4,}|[GTCTAT]{4,}|[GAATTA]{4,}|[AAGCCC]{4,}|[GTTTCT]{4,}|[TTGTAG]{4,}|[GAATCT]{4,}|[TAATGA]{4,}|[CGCGAG]{4,}|[AAAGGA]{4,}|[CGGTAT]{4,}|[GCATGT]{4,}|[AATATC]{4,}|[AGTGTG]{4,}|[TATTTA]{4,}|[TATAGC]{4,}|[TATTTT]{4,}|[CTGTCC]{4,}|[GATTGG]{4,}|[AAAGAT]{4,}|[TGGCCA]{4,}|[AGCTCG]{4,}|[GTGATA]{4,}|[TACACT]{4,}|[CAGGTT]{4,}|[CCTTCA]{4,}|[CCGAAA]{4,}|[CTTTTA]{4,}|[TTGACC]{4,}|[CATTTC]{4,}|[ATACCC]{4,}|[CAAAGC]{4,}|[GGTCAG]{4,}|[GGTATC]{4,}|[TAATAT]{4,}|[CCTCGC]{4,}|[GCTTAG]{4,}|[GAGAAG]{4,}|[CTGGTA]{4,}|[TACATA]{4,}|[TCACTC]{4,}|[CAGGCA]{4,}|[GGATAT]{4,}|[TTTTAC]{4,}|[GACAGA]{4,}|[CAGTAT]{4,}|[ATTAAC]{4,}|[GACAAG]{4,}|[GGATTG]{4,}|[GGGAAG]{4,}|[ATTTTG]{4,}|[GCAACG]{4,}|[CCCCAA]{4,}|[AACACG]{4,}|[GGCACC]{4,}|[GGGTAT]{4,}|[GACATA]{4,}|[AAACTG]{4,}|[GGGATA]{4,}|[AGACGG]{4,}|[CACAGA]{4,}|[ACGCGA]{4,}|[ACTCTC]{4,}|[AGCTGG]{4,}|[CGTTCC]{4,}|[GAGCTG]{4,}|[TGGCTT]{4,}|[TGGCCC]{4,}|[AACTGT]{4,}|[GCCACC]{4,}|[CCGCAC]{4,}|[TGGGGT]{4,}|[TTGCGA]{4,}|[CATGCC]{4,}|[GAAGTC]{4,}|[GAAGCA]{4,}|[GGAAAA]{4,}|[ATCATT]{4,}|[AGAACT]{4,}|[TGATAT]{4,}|[CAGACT]{4,}|[ATGACC]{4,}|[CAACCA]{4,}|[CTTCCC]{4,}|[CCTTAG]{4,}|[TCAGTC]{4,}|[TACAAC]{4,}|[ACCCTC]{4,}|[AATCCC]{4,}|[CTTCAG]{4,}|[CTCTGT]{4,}|[GCGCCC]{4,}|[GCTTCT]{4,}|[CAGAAG]{4,}|[CACCTT]{4,}|[CCAACT]{4,}|[CGCCTA]{4,}|[TCCGTG]{4,}|[GGTCCT]{4,}|[CATTGC]{4,}|[TCTACC]{4,}|[TTCACA]{4,}|[CCTGTG]{4,}|[CGCAAC]{4,}|[GAAGGA]{4,}|[CGTCAG]{4,}|[AAGAAT]{4,}|[CCTCAT]{4,}|[GGTACA]{4,}|[GTTACC]{4,}|[TGAACT]{4,}|[GTTGCC]{4,}|[TGAACA]{4,}|[CACAAG]{4,}|[AAGAGG]{4,}|[GTATCG]{4,}|[GATTTG]{4,}|[TACCGA]{4,}|[GTTCAT]{4,}|[AAGCCG]{4,}|[GGACTA]{4,}|[ATATAT]{4,}|[AGCACT]{4,}|[GACGGG]{4,}|[ACACCG]{4,}|[GTCATC]{4,}|[TTCGGG]{4,}|[ATCTCT]{4,}|[AGGCAC]{4,}|[CAAGAT]{4,}|[ACCCAA]{4,}|[TAGGCA]{4,}|[CGGCGC]{4,}|[CTAGGA]{4,}|[CGGCCG]{4,}|[TGGGAG]{4,}|[CCTAAT]{4,}|[TCCTAC]{4,}|[CCCTGA]{4,}|[GCTGCA]{4,}|[ACCGCA]{4,}|[ATCCCC]{4,}|[CACTTG]{4,}|[TGTGCC]{4,}|[GATGTA]{4,}|[ATATTC]{4,}|[GTGGGA]{4,}|[GCGAGT]{4,}|[TAAACC]{4,}|[AGTCCT]{4,}|[AGCCTT]{4,}|[AGTTTC]{4,}|[CTTGAC]{4,}|[CTCCGC]{4,}|[TCCAGA]{4,}|[GCCAGT]{4,}|[TAGATT]{4,}|[TGTATA]{4,}|[ACTACC]{4,}|[GCCGAC]{4,}|[ATACGG]{4,}|[TATATT]{4,}|[TTCTGA]{4,}|[TAGCGG]{4,}|[GTGAAG]{4,}|[TGAAAC]{4,}|[AACTAA]{4,}|[AGAGGC]{4,}|[TCGCGA]{4,}|[CATCGT]{4,}|[GAGTTC]{4,}|[TAAGTG]{4,}|[TACCAG]{4,}|[CTGCCA]{4,}|[GTAACG]{4,}|[TCCGAC]{4,}|[TCAAAA]{4,}|[TTAGAT]{4,}|[CACACA]{4,}|[AACCCG]{4,}|[CACACT]{4,}|[CTATTG]{4,}|[GACACC]{4,}|[GTGCTC]{4,}|[TGTCAT]{4,}|[ACTCCT]{4,}|[GAGTGT]{4,}|[CTGACG]{4,}|[CCACGG]{4,}|[GAGTGA]{4,}|[GCCCAG]{4,}|[ATAGCG]{4,}|[TTTGCA]{4,}|[TTGGCC]{4,}|[GAGCCT]{4,}|[TCGCCC]{4,}|[TGTCGG]{4,}|[CAAACA]{4,}|[GCCTCG]{4,}|[TTCATG]{4,}|[GTGTGC]{4,}|[GGAGCC]{4,}|[TTAAAT]{4,}|[CGAGAA]{4,}|[GTATGG]{4,}|[AGAGGG]{4,}|[GCAGTT]{4,}|[TAAAAT]{4,}|[TGGTAA]{4,}|[CGGAAT]{4,}|[TGGAAG]{4,}|[CACGCT]{4,}|[GCCTGG]{4,}|[CCTCCG]{4,}|[CGGGAC]{4,}|[CCTGGT]{4,}|[TAGAGG]{4,}|[ATCGCG]{4,}|[CGTCTG]{4,}|[TTTGGG]{4,}|[ATGTTC]{4,}|[TGCCCT]{4,}|[GATGCA]{4,}|[GAGGGT]{4,}|[ACCATT]{4,}|[TAATTC]{4,}|[ACTATA]{4,}|[TACATG]{4,}|[AAGCTG]{4,}|[CAGGCG]{4,}|[ACGAAA]{4,}|[TTTTCG]{4,}|[ACGAAT]{4,}|[CAACGT]{4,}|[ACCAGG]{4,}|[GAGCAT]{4,}|[AGTAGT]{4,}|[TCTAGA]{4,}|[AACAAA]{4,}|[ACTGCT]{4,}|[TTATCG]{4,}|[TTTGAC]{4,}|[AATAGG]{4,}|[GGGAAA]{4,}|[GGCGAG]{4,}|[CACCCT]{4,}|[CAGCAT]{4,}|[TGCCTG]{4,}|[TGACTC]{4,}|[ACGATA]{4,}|[GGAGGG]{4,}|[GCTAGA]{4,}|[TTACGT]{4,}|[AGCGGG]{4,}|[TCAACA]{4,}|[GATTCA]{4,}|[GTATTA]{4,}|[ATCTTC]{4,}|[GGGACT]{4,}|[TCGACC]{4,}|[ACATGG]{4,}|[TTGCTG]{4,}|[AGTTGG]{4,}|[ATGCTA]{4,}|[GACTGG]{4,}|[GAGGGC]{4,}|[GGCCCG]{4,}|[GAAGCG]{4,}|[AAATCT]{4,}|[GGAAAG]{4,}|[GAACCG]{4,}|[GTACCC]{4,}|[ATTCCA]{4,}|[CGGTCT]{4,}|[AAAATC]{4,}|[CGCTTG]{4,}|[ATACTT]{4,}|[ACAGGC]{4,}|[CAACAA]{4,}|[ACTTTA]{4,}|[GATGAA]{4,}|[GTAGTC]{4,}|[GCGTCA]{4,}|[AGTCAG]{4,}|[CAAATG]{4,}|[TACGTC]{4,}|[TCGTTG]{4,}|[TTTACA]{4,}|[CATCAA]{4,}|[CTCAAC]{4,}|[GTTAAC]{4,}|[CAGGAC]{4,}|[ACTAAG]{4,}|[GGCGGC]{4,}|[CAGAAA]{4,}|[TACGCG]{4,}|[CCTTGC]{4,}|[TTACAA]{4,}|[GGTGGC]{4,}|[ATCATC]{4,}|[ACCTTA]{4,}|[AATGTC]{4,}|[GTAAAT]{4,}|[GGTAGA]{4,}|[ACAGCT]{4,}|[GGTACG]{4,}|[ACATCA]{4,}|[CCGCTG]{4,}|[GACCCG]{4,}|[GCCCAT]{4,}|[TAAGGA]{4,}|[ACTCTT]{4,}|[TCGAAC]{4,}|[AAGGGG]{4,}|[GTAATT]{4,}|[AGACGC]{4,}|[GTAATA]{4,}|[CAAGGA]{4,}|[TAGTTC]{4,}|[CAAGAG]{4,}|[TTAAGG]{4,}|[GCTGGT]{4,}|[ACAAAT]{4,}|[TAGGCG]{4,}|[GCAGCC]{4,}|[AGTTCC]{4,}|[TTGGAG]{4,}|[CCAAGT]{4,}|[TGGATG]{4,}|[TGCCAG]{4,}|[TACTTG]{4,}|[CGGCAG]{4,}|[CTGCGG]{4,}|[CATGGC]{4,}|[CGTAGG]{4,}|[CGCACG]{4,}|[GCACAT]{4,}|[ACCTCC]{4,}|[ATATAC]{4,}|[CGTGTT]{4,}|[AGGGGG]{4,}|[AATCGA]{4,}|[CGAATG]{4,}|[CCGTTT]{4,}|[TGCTAG]{4,}|[ACTAGT]{4,}|[GCCGTC]{4,}|[AGGCAA]{4,}|[AATATT]{4,}|[TATGGG]{4,}|[GCGGAT]{4,}|[CAGCGA]{4,}|[GAATGC]{4,}|[TCAAGT]{4,}|[ACAGTC]{4,}|[GCTGAA]{4,}|[CTCTGG]{4,}|[GGAGAC]{4,}|[GAGTAC]{4,}|[AGAAGG]{4,}|[CTATCC]{4,}|[CTATTT]{4,}|[AGACCC]{4,}|[ATGTGA]{4,}|[GGTCGA]{4,}|[GAATTT]{4,}|[CTGAAC]{4,}|[GCCCCC]{4,}|[GTTGTG]{4,}|[TAAGAG]{4,}|[TTATAT]{4,}|[GGGGTA]{4,}|[TCGTGA]{4,}|[GATAAT]{4,}|[TTGATG]{4,}|[AAAGTG]{4,}|[AGCAAT]{4,}|[TAACCG]{4,}|[GAAGCC]{4,}|[ATTCTG]{4,}|[GGATGA]{4,}|[CGATTA]{4,}|[TATGGC]{4,}|[GTTCCA]{4,}|[TGGGGC]{4,}|[TTGAAA]{4,}|[ATCTAT]{4,}|[GTTATG]{4,}|[ATCAAT]{4,}|[CCCCGT]{4,}|[GGTTCG]{4,}|[ATCTGC]{4,}|[TACTGA]{4,}|[TGGCTC]{4,}|[ACAGTG]{4,}|[TGGCCT]{4,}|[TGGCCG]{4,}|[GTCTCA]{4,}|[TTTAAG]{4,}|[CATCCG]{4,}|[AAAACG]{4,}|[GATACG]{4,}|[AGCATA]{4,}|[GACTAC]{4,}|[GAACTA]{4,}|[CACACC]{4,}|[GTGCTT]{4,}|[TACAAT]{4,}|[AAATGT]{4,}|[GGCTGT]{4,}|[TGCAAA]{4,}|[AGGAAA]{4,}|[AAGTAT]{4,}|[TGAGTG]{4,}|[GCTTAA]{4,}|[CCCCTT]{4,}|[CGCGCG]{4,}|[GTCCCT]{4,}|[ACTATG]{4,}|[CACATC]{4,}|[GACGGT]{4,}|[CGACAC]{4,}|[TAGTCG]{4,}|[TGACCG]{4,}|[CTAGTC]{4,}|[AACTCA]{4,}|[TGCGAC]{4,}|[TGGCAA]{4,}|[GGCTCC]{4,}|[GTGTCC]{4,}|[GCAACA]{4,}|[ACGCAG]{4,}|[CATTTT]{4,}|[GGAATA]{4,}|[TATGTT]{4,}|[GGAATT]{4,}|[CGATTC]{4,}|[ATGTTG]{4,}|[GCACCC]{4,}|[GTGACA]{4,}|[AGCTCC]{4,}|[GGATAC]{4,}|[CTACCA]{4,}|[TCCAAG]{4,}|[ACCCAC]{4,}|[AACGTT]{4,}|[GAAAGT]{4,}|[AACGTA]{4,}|[CCAGTC]{4,}|[GTTACG]{4,}|[CTCACC]{4,}|[ATCTCC]{4,}|[TCCGGT]{4,}|[TGGGCC]{4,}|[GAAATT]{4,}|[GCGGCC]{4,}|[TTTGTA]{4,}|[GTCTAG]{4,}|[GTTAGA]{4,}|[GTACAC]{4,}|[CCGACT]{4,}|[CTTTCT]{4,}|[CTTTTC]{4,}|[CGAACC]{4,}|[AAGTAC]{4,}|[TGGTCA]{4,}|[CGGACT]{4,}|[ACCTAG]{4,}|[CCCCCA]{4,}|[GCGTCG]{4,}|[TAGTGA]{4,}|[TCTGCG]{4,}|[ACTGTC]{4,}|[CACGAT]{4,}|[ACCACC]{4,}|[ACGAGC]{4,}|[TATCGT]{4,}|[ACTGGG]{4,}|[TCAGGT]{4,}|[AGGTGT]{4,}|[TATTCT]{4,}|[TTTCTA]{4,}|[ATCGGT]{4,}|[CATCTG]{4,}|[TTGTGA]{4,}|[CAAGTT]{4,}|[CTTGGT]{4,}|[CTCCAT]{4,}|[CCGGGC]{4,}|[GGCTCA]{4,}|[GTTGGG]{4,}|[CACGTA]{4,}|[AATCGC]{4,}|[CCATAC]{4,}|[ACGTGA]{4,}|[GGACAT]{4,}|[CCGAGA]{4,}|[GGACAG]{4,}|[TAACGG]{4,}|[GGAGAG]{4,}|[GCGGCG]{4,}|[ACTTGT]{4,}|[TCTGTT]{4,}|[GTCACC]{4,}|[CTCTTG]{4,}|[GCCGGA]{4,}|[GTCGTA]{4,}|[ACCCTT]{4,}|[TCGGTT]{4,}|[TCGGCC]{4,}|[TGCGTG]{4,}|[CAAGCA]{4,}|[AAGCCA]{4,}|[GGACTG]{4,}|[CCCGGT]{4,}|[GCTGAC]{4,}|[GTCCTA]{4,}|[GCAAAA]{4,}|[AGTCGT]{4,}|[GAAGTA]{4,}|[TAGCTC]{4,}|[GTACAT]{4,}|[AGATGC]{4,}|[TCTGGT]{4,}|[TCTGGA]{4,}|[TTAAGA]{4,}|[TGCATG]{4,}|[CTAGGG]{4,}|[ACGGTG]{4,}|[CAGTAA]{4,}|[ACAACG]{4,}|[CCCAAC]{4,}|[GCTCGA]{4,}|[CTTCGA]{4,}|[ATGTCG]{4,}|[AAGTTA]{4,}|[AGGTTT]{4,}|[GCAGAT]{4,}|[GTACTT]{4,}|[CTAATT]{4,}|[TATCGC]{4,}|[GTTTGA]{4,}|[CATGTG]{4,}|[ATCCTG]{4,}|[CTACAT]{4,}|[GCATTC]{4,}|[TTGTGC]{4,}|[AAGCGA]{4,}|[AGGAGC]{4,}|[GCCGCG]{4,}|[AGGACG]{4,}|[CTAAGT]{4,}|[GCCAGA]{4,}|[TTGAAC]{4,}|[GTAAGC]{4,}|[CCTGAC]{4,}|[AATGGC]{4,}|[ATCAGC]{4,}|[AAGGAT]{4,}|[TAGTTG]{4,}|[GAGTCC]{4,}|[TGTACG]{4,}|[ATCCGC]{4,}|[GCGGGC]{4,}|[ATACGT]{4,}|[CCGCCG]{4,}|[GACCTG]{4,}|[AACGCC]{4,}|[CTGGTC]{4,}|[GCGACT]{4,}|[AACTAG]{4,}|[TAATAC]{4,}|[CTGTAC]{4,}|[GCCTGC]{4,}|[TCGAAG]{4,}|[GCGAAA]{4,}|[GTCCCC]{4,}|[CAACTC]{4,}|[ATGATT]{4,}|[CAACCT]{4,}|[GCTCCA]{4,}|[TAACAC]{4,}|[AGACAT]{4,}|[TACTCC]{4,}|[GTCTGC]{4,}|[GTGTTT]{4,}|[TCGTCG]{4,}|[CCTGAT]{4,}|[CCTTCC]{4,}|[CGAAGA]{4,}|[GGCGCC]{4,}|[CGAGTT]{4,}|[AGGAGT]{4,}|[AATTCT]{4,}|[GAGGCG]{4,}|[GGCTGC]{4,}|[CTCGGT]{4,}|[GATCAG]{4,}|[TCATCG]{4,}|[GCTTTC]{4,}|[AGACTA]{4,}|[ATCAGG]{4,}|[TCGGAG]{4,}|[ATATGG]{4,}|[ATTGCT]{4,}|[CGGATA]{4,}|[CAAACG]{4,}|[GCCTCA]{4,}|[GGCCTT]{4,}|[CTGCAG]{4,}|[TTGATA]{4,}|[GAAAAC]{4,}|[GTCTTT]{4,}|[ATTCGA]{4,}|[CGGGCA]{4,}|[TTTATG]{4,}|[ATCACA]{4,}|[AATTGA]{4,}|[GGTTCT]{4,}|[TCAGCT]{4,}|[GTTATA]{4,}|[TCAGCA]{4,}|[GTTATT]{4,}|[TGGTAG]{4,}|[GATCTT]{4,}|[TTCAAC]{4,}|[CAGTTC]{4,}|[GAGTTG]{4,}|[GATGAC]{4,}|[CCTGTT]{4,}|[CTATCA]{4,}|[TGAAAG]{4,}|[GGGCTG]{4,}|[AGTTGC]{4,}|[TAGCAA]{4,}|[GTGAGA]{4,}|[GGCACG]{4,}|[CCCGCG]{4,}|[TCTTGA]{4,}|[GTCCAC]{4,}|[TCTATC]{4,}|[CTTAAT]{4,}|[ACATTC]{4,}|[GCAATC]{4,}|[ACACAC]{4,}|[AACATT]{4,}|[GACGAA]{4,}|[GAGGGA]{4,}|[TGACGT]{4,}|[CGCGGC]{4,}|[TACGAA]{4,}|[CGGAGC]{4,}|[AGCAAC]{4,}|[TCCACC]{4,}|[TGGGGA]{4,}|[AGGTGC]{4,}|[TACTAT]{4,}|[TGTTAC]{4,}|[TTGCGT]{4,}|[CGATGA]{4,}|[CACTAA]{4,}|[AACTCG]{4,}|[CCGGGT]{4,}|[TGGCAG]{4,}|[CCGTCA]{4,}|[ATAGTG]{4,}|[GCTAGT]{4,}|[TAGCGT]{4,}|[GTGAAT]{4,}|[CAGGAA]{4,}|[GGATCT]{4,}|[GTATCC]{4,}|[TTAACT]{4,}|[CCGGTT]{4,}|[CCGGTA]{4,}|[TGTGAG]{4,}|[TGGAAC]{4,}|[CCTATG]{4,}|[ATACAA]{4,}|[CTTTGG]{4,}|[CCGGAG]{4,}|[CCTCCC]{4,}|[GATGCC]{4,}|[ACAATT]{4,}|[TACCTA]{4,}|[TTTAAC]{4,}|[CATCCC]{4,}|[GTGCCC]{4,}|[TATAAT]{4,}|[GAGATC]{4,}|[ACCCGT]{4,}|[GCCTTG]{4,}|[AACGAT]{4,}|[GGGCGA]{4,}|[CCGTGT]{4,}|[CGTCAC]{4,}|[GACATT]{4,}|[ACGGAG]{4,}|[TGAGGC]{4,}|[ACTTTT]{4,}|[ACTTTG]{4,}|[ACCTAT]{4,}|[TGGTCG]{4,}|[CCCCCG]{4,}|[TACGGG]{4,}|[TTGTCA]{4,}|[CTGAGC]{4,}|[CCACCC]{4,}|[GGCAGC]{4,}|[TTCTGC]{4,}|[ACTCAA]{4,}|[CGCCGA]{4,}|[CCTACC]{4,}|[ATTGGT]{4,}|[GGGGGC]{4,}|[AGTTCT]{4,}|[CCAAGC]{4,}|[GCCCTG]{4,}|[CTAGTG]{4,}|[ATTCAT]{4,}|[TAACGA]{4,}|[CCCTCA]{4,}|[GGAGAA]{4,}|[GTTCGC]{4,}|[TTACCG]{4,}|[GCGGCA]{4,}|[CTTGAA]{4,}|[CTCCGA]{4,}|[GCGATT]{4,}|[ATGGCT]{4,}|[TGTAAA]{4,}|[CAACAC]{4,}|[GACTGC]{4,}|[AGAATC]{4,}|[GGCCCC]{4,}|[TAGGAT]{4,}|[TGTCAC]{4,}|[TCTGAT]{4,}|[GCAGGG]{4,}|[CAGAGA]{4,}|[TTAGAC]{4,}|[GACACT]{4,}|[ACTACG]{4,}|[ACCATA]{4,}|[ACAGCC]{4,}|[TCTGGG]{4,}|[TATCAA]{4,}|[CCGCGA]{4,}|[CGTGAA]{4,}|[AACACA]{4,}|[AGAGCG]{4,}|[ATAGAG]{4,}|[TGGTAC]{4,}|[CTCAGA]{4,}|[GATAAC]{4,}|[CAGCCT]{4,}|[TACAGC]{4,}|[CGCACA]{4,}|[CCCACG]{4,}|[CATGTA]{4,}|[CCGTAG]{4,}|[AAATAG]{4,}|[GACAGG]{4,}|[AATAAA]{4,}|[TATTAC]{4,}|[CTCCCC]{4,}|[GGCGGA]{4,}|[AGTGGG]{4,}|[TAAAGC]{4,}|[TTGGCA]{4,}|[CGTTGG]{4,}|[GGGTGA]{4,}|[GGTTTT]{4,}|[AGTATG]{4,}|[CGTATC]{4,}|[GCGAGC]{4,}|[TCCATT]{4,}|[CAGTGT]{4,}|[AGGCCA]{4,}|[TCGAAA]{4,}|[GCGAAG]{4,}|[TAGGAC]{4,}|[ATGTAG]{4,}|[CTTCTC]{4,}|[TTCGCG]{4,}|[ATAAGA]{4,}|[GATGAT]{4,}|[TCGTCT]{4,}|[CTACTC]{4,}|[ATCCGG]{4,}|[TATTGA]{4,}|[CTTGCA]{4,}|[TCATGC]{4,}|[CGACGT]{4,}|[AATGGA]{4,}|[TAAAGG]{4,}|[GATCCG]{4,}|[TCGCGT]{4,}|[TCGTGG]{4,}|[TGTGGT]{4,}|[CTGCAA]{4,}|[ACGCAC]{4,}|[GTCAGC]{4,}|[ACTGAC]{4,}|[GCCTAT]{4,}|[TCTCGT]{4,}|[CACAAA]{4,}|[TGCTGT]{4,}|[GAGACT]{4,}|[GGGATC]{4,}|[CCTCAG]{4,}|[TAAGGT]{4,}|[CTGGGG]{4,}|[ACAGTA]{4,}|[TGAAGA]{4,}|[CTGGGT]{4,}|[GAACCC]{4,}|[TTCACG]{4,}|[ACTTCT]{4,}|[GAATGG]{4,}|[GTCCGA]{4,}|[GTGGCA]{4,}|[CTCACG]{4,}|[CCGTGC]{4,}|[TTTTTA]{4,}|[CTCTAT]{4,}|[AGTAGA]{4,}|[GCTCAT]{4,}|[TCAATT]{4,}|[TCCAAC]{4,}|[TATAAC]{4,}|[GGGCTA]{4,}|[GCGCTG]{4,}|[TCGACA]{4,}|[GTCAGT]{4,}|[GATGGT]{4,}|[ACAACT]{4,}|[GTGGTT]{4,}|[AAAGCG]{4,}|[GCCGAG]{4,}|[CGGCAT]{4,}|[AGCGGC]{4,}|[TCGCGC]{4,}|[GACGAG]{4,}|[AAAAAA]{4,}|[CCCCTG]{4,}|[TTAATT]{4,}|[TTGTCC]{4,}|[AACCAG]{4,}|[CCCGTG]{4,}|[CACTAG]{4,}|[CCCATT]{4,}|[ACCGTT]{4,}|[AGTAAC]{4,}|[GCTAAT]{4,}|[GAGATT]{4,}|[AATCAT]{4,}|[CATCTC]{4,}|[CTAACA]{4,}|[CTCATA]{4,}|[CAAACC]{4,}|[CCCAGG]{4,}|[GATGTG]{4,}|[GAAGGC]{4,}|[GTGGGG]{4,}|[GTGACG]{4,}|[CAAAGG]{4,}|[CCGGTG]{4,}|[ATATCA]{4,}|[CAATGA]{4,}|[GGTCTC]{4,}|[GGGAGT]{4,}|[TCATAG]{4,}|[AGAATA]{4,}|[AGTCGC]{4,}|[TCGGCG]{4,}|[CATAAA]{4,}|[CTCTTC]{4,}|[GGGCCA]{4,}|[CGGCGT]{4,}|[GTTGCG]{4,}|[GAATTG]{4,}|[TAGTAG]{4,}|[GTTGTT]{4,}|[ACGACG]{4,}|[CCGTCC]{4,}|[CAGCAC]{4,}|[GAGTCA]{4,}|[AAGGTT]{4,}|[ACCGGC]{4,}|[GGAGTG]{4,}|[CGTATG]{4,}|[TTGTGG]{4,}|[CCTGCT]{4,}|[CTGACA]{4,}|[CCACGA]{4,}|[ATGAGG]{4,}|[CTATAG]{4,}|[ATAGCA]{4,}|[GCCCAA]{4,}|[CCTCCA]{4,}|[CCCCGA]{4,}|[ACGTGG]{4,}|[CCCTCG]{4,}|[CGAGCT]{4,}|[CGGACC]{4,}|[TAGAGA]{4,}|[TCATTT]{4,}|[AGCTAG]{4,}|[CCTTTC]{4,}|[CCGAAT]{4,}|[GGTCAA]{4,}|[ATTTAC]{4,}|[AGAGGA]{4,}|[TGGACA]{4,}|[CAGAAT]{4,}|[CACCTG]{4,}|[CCAGTG]{4,}|[CAACTT]{4,}|[CAACCC]{4,}|[TTACAT]{4,}|[CTTCCA]{4,}|[GCGCGC]{4,}|[ATCTTG]{4,}|[CAACGG]{4,}|[CCGATA]{4,}|[TAGGTG]{4,}|[CTGGTT]{4,}|[TGGTTC]{4,}|[ATTCGC]{4,}|[GCACGC]{4,}|[TATCAG]{4,}|[CTCGGC]{4,}|[TGCATA]{4,}|[TGCGCC]{4,}|[CATTGT]{4,}|[TTACCC]{4,}|[GTGCGG]{4,}|[CGTCTA]{4,}|[AGCAGC]{4,}|[CGTCTT]{4,}|[ACGTGC]{4,}|[GCTTCC]{4,}|[TCTACA]{4,}|[TTCACC]{4,}|[GTTGGC]{4,}|[GTTTGG]{4,}|[GGCGCA]{4,}|[AGTTGA]{4,}|[AGGTCT]{4,}|[CTGTCA]{4,}|[GACTGA]{4,}|[GGCAGG]{4,}|[CGTTGT]{4,}|[AGTGGA]{4,}|[TTGGCG]{4,}|[AGTGGT]{4,}|[GCAAGA]{4,}|[GGCCCA]{4,}|[GGGGTC]{4,}|[GGGGGG]{4,}|[GTCATG]{4,}|[TGTACT]{4,}|[GTCCTC]{4,}|[CCCCAG]{4,}|[GTGTAA]{4,}|[GCAAAC]{4,}|[GGTGAC]{4,}|[TGCCTA]{4,}|[CCTTAA]{4,}|[GCTAGG]{4,}|[AAGATT]{4,}|[ATCACC]{4,}|[GCACAA]{4,}|[TCTCCC]{4,}|[TCAGAA]{4,}|[TCCCGG]{4,}|[TGGGTT]{4,}|[GTACGG]{4,}|[ACGTAT]{4,}|[CCGCTC]{4,}|[GACCCC]{4,}|[CTAATC]{4,}|[TTCCGG]{4,}|[TACTAC]{4,}|[TAGATC]{4,}|[GTAGCC]{4,}|[GCATTA]{4,}|[TTGACT]{4,}|[ATGGAT]{4,}|[ATTCCG]{4,}|[GTGACC]{4,}|[CGGTCG]{4,}|[CACGGA]{4,}|[ACACAT]{4,}|[AACATC]{4,}|[AGCCGT]{4,}|[CGCAGA]{4,}|[CAGTAC]{4,}|[CCCCAC]{4,}|[GGTGAG]{4,}|[AATGAG]{4,}|[TACGAC]{4,}|[ATCCTC]{4,}|[CGGAGA]{4,}|[GAATAT]{4,}|[TACAGG]{4,}|[CATGGA]{4,}|[GATTGT]{4,}|[ATGACG]{4,}|[TTTTAA]{4,}|[GACAGC]{4,}|[CTTATA]{4,}|[CGTTAG]{4,}|[ACCTTG]{4,}|[TAACTT]{4,}|[ATTGGG]{4,}|[ACACCA]{4,}|[GTGTAC]{4,}|[GTTTCC]{4,}|[AGTAGG]{4,}|[TTAGGG]{4,}|[CCAGCT]{4,}|[CCCTTG]{4,}|[GCCAAT]{4,}|[TACTTA]{4,}|[TGGATT]{4,}|[ACCGCG]{4,}|[CACTTA]{4,}|[CACTTT]{4,}|[CACAGC]{4,}|[CGAATC]{4,}|[GCGGTT]{4,}|[ACCCAT]{4,}|[TCAGGC]{4,}|[TATAGT]{4,}|[TTATTA]{4,}|[CCTAAG]{4,}|[TACGAT]{4,}|[GAATAC]{4,}|[GTCGAG]{4,}|[CAAGGG]{4,}|[CGAGTC]{4,}|[CATACT]{4,}|[TGCAGT]{4,}|[CTTTCC]{4,}|[CTTTTT]{4,}|[TCGGGA]{4,}|[TGTCTT]{4,}|[GATAGC]{4,}|[ATCATA]{4,}|[ACCTTC]{4,}|[GGCTGA]{4,}|[TTCTGG]{4,}|[TTTATC]{4,}|[CAGGAG]{4,}|[CGAGGT]{4,}|[CGAGGA]{4,}|[GTGCAA]{4,}|[TATATA]{4,}|[CATATA]{4,}|[TCTGCC]{4,}|[GAAACT]{4,}|[CGGTGC]{4,}|[TCTAAT]{4,}|[CTTATC]{4,}|[GCATAC]{4,}|[CCAAAT]{4,}|[CCATAA]{4,}|[CCAACA]{4,}|[TACGCT]{4,}|[AGATAG]{4,}|[TGCGGG]{4,}|[GGTCCG]{4,}|[ATGCGA]{4,}|[GGTCGG]{4,}|[GTGTCT]{4,}|[TGCTAA]{4,}|[GAGTGG]{4,}|[AGAAAT]{4,}|[TGATCT]{4,}|[CGCTAT]{4,}|[TGCGAT]{4,}|[AGATTA]{4,}|[CTTAGG]{4,}|[CGACCA]{4,}|[AGGTTC]{4,}|[AAACCG]{4,}|[TAATCA]{4,}|[AGGAGA]{4,}|[GCACTG]{4,}|[TGCGCA]{4,}|[TCGATG]{4,}|[AGCTGC]{4,}|[CGTTCG]{4,}|[TAACCA]{4,}|[TAAGTT]{4,}|[GAGCTC]{4,}|[GTAACA]{4,}|[ATTCTA]{4,}|[GTAACT]{4,}|[GGATGG]{4,}|[TTAGCC]{4,}|[CCCTAC]{4,}|[TCATAC]{4,}|[CCAGGT]{4,}|[ATAGTC]{4,}|[TTTCGA]{4,}|[ATATAA]{4,}|[CGGTGG]{4,}|[GCATAG]{4,}|[TGTACC]{4,}|[GATCTG]{4,}|[GTCCTT]{4,}|[CCCACC]{4,}|[TGGCGA]{4,}|[GAGGAT]{4,}|[TAAGAA]{4,}|[GCAAAT]{4,}|[AGTGGC]{4,}|[CATAAC]{4,}|[GCCTGA]{4,}|[TACCAC]{4,}|[CCCAAG]{4,}|[TGCTCG]{4,}|[GAGAGG]{4,}|[GTAGTT]{4,}|[CGAGAG]{4,}|[GCATCC]{4,}|[ATACTC]{4,}|[ACAGGT]{4,}|[TTTGGA]{4,}|[GTAAGA]{4,}|[TTCTCT]{4,}|[ACCTGC]{4,}|[TTCTTC]{4,}|[CGTGCC]{4,}|[CCGGCA]{4,}|[GCTACT]{4,}|[TGAGAT]{4,}|[AAATCC]{4,}|[AGGATG]{4,}|[GATATC]{4,}|[GATACA]{4,}|[TTTTCT]{4,}|[ACCGGA]{4,}|[TTCCCG]{4,}|[AATGCG]{4,}|[ACCATG]{4,}|[CTACGG]{4,}|[GCCGTT]{4,}|[ACCGAG]{4,}|[CTCCTA]{4,}|[TTTCCC]{4,}|[GTCGCT]{4,}|[GCCATA]{4,}|[ATCGCA]{4,}|[AGGAAG]{4,}|[ACGATG]{4,}|[AAAGCT]{4,}|[GGAGGA]{4,}|[GAATCC]{4,}|[CATCGA]{4,}|[CTCGAT]{4,}|[ATTGTG]{4,}|[AAGCCT]{4,}|[GCCCTC]{4,}|[GGTTAA]{4,}|[ATGATA]{4,}|[TGTGAT]{4,}|[TGATGT]{4,}|[TCGCAT]{4,}|[TCCAAA]{4,}|[ACCAGA]{4,}|[AACGTG]{4,}|[TGGACC]{4,}|[GTATTT]{4,}|[GGCAAG]{4,}|[TTCGGC]{4,}|[GGGACA]{4,}|[ACCACG]{4,}|[AGTGCT]{4,}|[GGGGAG]{4,}|[ACAAAC]{4,}|[GCAGCT]{4,}|[TAAGCG]{4,}|[TTCCTC]{4,}|[GATTAT]{4,}|[CCGAGC]{4,}|[CCATGC]{4,}|[AAGTCG]{4,}|[GTATAT]{4,}|[CCTGGC]{4,}|[CGGGGT]{4,}|[AGGGAC]{4,}|[CAAATA]{4,}|[ACCTCT]{4,}|[ACATGA]{4,}|[CAATAG]{4,}|[GTTCTT]{4,}|[TTCCGA]{4,}|[GAACGA]{4,}|[AACCCT]{4,}|[CACATT]{4,}|[AGTAAT]{4,}|[GCTAAC]{4,}|[TCGTAT]{4,}|[TATGCA]{4,}|[GGAAAC]{4,}|[GTTAGG]{4,}|[GGTAGG]{4,}|[TAGTAT]{4,}|[AAAAGT]{4,}|[CGCTTA]{4,}|[GTTTTG]{4,}|[CAATGC]{4,}|[GGTGAA]{4,}|[ACTTGG]{4,}|[TCGTTA]{4,}|[TTTACG]{4,}|[CATCAG]{4,}|[CTCTTA]{4,}|[GTAATG]{4,}|[TAACGT]{4,}|[TAGTCC]{4,}|[TCCGAG]{4,}|[GGCTCG]{4,}|[CTTGTG]{4,}|[GAGGTA]{4,}|[GGGTGC]{4,}|[AAAATT]{4,}|[TCCCTA]{4,}|[GACAAT]{4,}|[GCCACG]{4,}|[GGGAAT]{4,}|[ACGGTA]{4,}|[CAGTAG]{4,}|[TATCCA]{4,}|[TCTCTG]{4,}|[CGGCAA]{4,}|[CCCGAT]{4,}|[CTGCGA]{4,}|[GATTCC]{4,}|[GTCGTG]{4,}|[GAGAAA]{4,}|[CCAAGA]{4,}|[ACTGAT]{4,}|[AAAAAG]{4,}|[ACTGAA]{4,}|[CTCAAT]{4,}|[CTCGTG]{4,}|[GCCTAC]{4,}|[TTCCAG]{4,}|[CGATCT]{4,}|[GGAAGA]{4,}|[GGTACC]{4,}|[CGTTTT]{4,}|[CCCGTA]{4,}|[CAATCA]{4,}|[CGAGAC]{4,}|[GCATCG]{4,}|[GGACCA]{4,}|[ATTTTA]{4,}|[GAACCT]{4,}|[CGCGAC]{4,}|[GACGCT]{4,}|[GACGCA]{4,}|[TGCCAA]{4,}|[GTTCGG]{4,}|[TAGACT]{4,}|[AAATTT]{4,}|[ATGTCA]{4,}|[TTTTTC]{4,}|[GGGATG]{4,}|[GGGATT]{4,}|[ATGAGC]{4,}|[CTATAC]{4,}|[GATCAC]{4,}|[CATATG]{4,}|[TAATTT]{4,}|[CCTGCC]{4,}|[TCGCTA]{4,}|[CTGAGG]{4,}|[CCACCG]{4,}|[CGCCCG]{4,}|[CAGCTC]{4,}|[CCAACG]{4,}|[AAGAGC]{4,}|[AGATAA]{4,}|[GACGTT]{4,}|[TCTTTG]{4,}|[AATAGT]{4,}|[AACAGC]{4,}|[GTTGTA]{4,}|[ACGACA]{4,}|[AGATCT]{4,}|[CGACTT]{4,}|[TTTCCT]{4,}|[GTCGCC]{4,}|[TTTCCA]{4,}|[TGCGCG]{4,}|[GTGCGC]{4,}|[AAGACA]{4,}|[AAACAG]{4,}|[ACTCTA]{4,}|[ATTCGG]{4,}|[TCTAGC]{4,}|[CAGCCC]{4,}|[ATGTAT]{4,}|[CGATTG]{4,}|[AATTAA]{4,}|[TCGGTG]{4,}|[TATCTA]{4,}|[TCACAT]{4,}|[AACCGT]{4,}|[TGAGAC]{4,}|[CGTATA]{4,}|[AGAGTC]{4,}|[ATTTTC]{4,}|[AGCATG]{4,}|[GGGGTG]{4,}|[ATCAAG]{4,}|[GAAGGG]{4,}|[ATGTCC]{4,}|[ATTATC]{4,}|[GAAGGT]{4,}|[GTGGAA]{4,}|[CAGATG]{4,}|[CTGCCC]{4,}|[TCCTAA]{4,}|[GAACTT]{4,}|[AATCCT]{4,}|[TCTTGG]{4,}|[CATGTC]{4,}|[CTGGAA]{4,}|[CATGCG]{4,}|[TACCGG]{4,}|[GAACAT]{4,}|[GGTGGT]{4,}|[ACGTTC]{4,}|[CCCTAT]{4,}|[CCCTAA]{4,}|[TCACGC]{4,}|[CTACGA]{4,}|[CGGCCA]{4,}|[CCCTGG]{4,}|[CCGTCG]{4,}|[GAAAAT]{4,}|[ATTGCC]{4,}|[ATTATT]{4,}|[CTTCTA]{4,}|[TCCATA]{4,}|[AATATG]{4,}|[AAAACC]{4,}|[TCTACG]{4,}|[CGGGGC]{4,}|[GACTAG]{4,}|[CTGGGC]{4,}|[GTGTGG]{4,}|[ACACGT]{4,}|[CCATCG]{4,}|[GACACA]{4,}|[TAGTCA]{4,}|[TGTGTC]{4,}|[TTGGGC]{4,}|[AATGTG]{4,}|[TGAGCT]{4,}|[GGGGGA]{4,}|[ACGTCC]{4,}|[GGCTTG]{4,}|[ACGCAA]{4,}|[ACGCAT]{4,}|[TTTGTG]{4,}|[TGTCCA]{4,}|[AATCTT]{4,}|[CATTTG]{4,}|[ATCGAT]{4,}|[GATCCC]{4,}|[TCCTTG]{4,}|[GGTATT]{4,}|[CGCACT]{4,}|[ACCAAT]{4,}|[TCCGCG]{4,}|[ATACCT]{4,}|[CTGCAT]{4,}|[CTTTCA]{4,}|[ACGCTA]{4,}|[TGTTTT]{4,}|[TGCAGC]{4,}|[CTAAGC]{4,}|[AACGGA]{4,}|[TACACC]{4,}|[CAGGTC]{4,}|[GAACGG]{4,}|[GCATTT]{4,}|[GGGCGG]{4,}|[CCTAAC]{4,}|[TATCGA]{4,}|[TGTTAT]{4,}|[ACCATC]{4,}|[TGTTAA]{4,}|[TTCGGT]{4,}|[CACGGG]{4,}|[TTTTTT]{4,}|[CTCTAA]{4,}|[TTCATA]{4,}|[GCTCAA]{4,}|[TAATGG]{4,}|[CGCGAA]{4,}|[CTTGAG]{4,}|[CTCCGG]{4,}|[ATCGTT]{4,}|[GTTTAA]{4,}|[CGTAGC]{4,}|[GTATCT]{4,}|[CTGTTG]{4,}|[GCTGTC]{4,}|[GATTGA]{4,}|[CTCGCT]{4,}|[TCCGAA]{4,}|[TGACTG]{4,}|[ATGACA]{4,}|[TTTTAG]{4,}|[TGGAAA]{4,}|[ACGGGC]{4,}|[TCTGTA]{4,}|[CGTCCC]{4,}|[GCCGGT]{4,}|[TTGAGT]{4,}|[ACTACA]{4,}|[ATGCCC]{4,}|[AGTACC]{4,}|[AAACGT]{4,}|[GCCACA]{4,}|[GCTAAA]{4,}|[AGAGCA]{4,}|[ATGGGC]{4,}|[TTAAAC]{4,}|[CGCTCT]{4,}|[GAAGTT]{4,}|[ATAATG]{4,}|[CACGGC]{4,}|[TTGCCT]{4,}|[ATGCAT]{4,}|[TTATTG]{4,}|[TGCATT]{4,}|[CATTGA]{4,}|[GTCTTC]{4,}|[GCGCCT]{4,}|[GTAGCT]{4,}|[CGTAAT]{4,}|[GCAGGA]{4,}|[AAGTTT]{4,}|[GCCGCA]{4,}|[TTAGTT]{4,}|[GCTTTT]{4,}|[CATAAT]{4,}|[CCTGTC]{4,}|[GGATTA]{4,}|[ACTGTT]{4,}|[GTCACG]{4,}|[GCATCA]{4,}|[ATCATG]{4,}|[GAGACG]{4,}|[GAAATA]{4,}|[GCTCGG]{4,}|[AAGTAA]{4,}|[GCAAGT]{4,}|[TTACGG]{4,}|[TATATG]{4,}|[CGGGTT]{4,}|[AGCTGT]{4,}|[TGCCTT]{4,}|[GAGCTT]{4,}|[GCTCCG]{4,}|[GGAGTC]{4,}|[CGCCCA]{4,}|[GACCAC]{4,}|[GAGCAG]{4,}|[GCCATC]{4,}|[AGGCGG]{4,}|[ATCGGG]{4,}|[GATAGT]{4,}|[CCGCCA]{4,}|[GACCTA]{4,}|[GTAGGC]{4,}|[AGTATA]{4,}|[TCATCA]{4,}|[CACGTT]{4,}|[TCATCT]{4,}|[CTGATC]{4,}|[AGCAGT]{4,}|[CAATTT]{4,}|[AGCAGG]{4,}|[ATATTT]{4,}|[TAATCG]{4,}|[GCACTA]{4,}|[CGAGTG]{4,}|[TGCGCT]{4,}|[TTTCCG]{4,}|[CTTCAA]{4,}|[TCACTT]{4,}|[ACATAG]{4,}|[TTTATA]{4,}|[CGACAT]{4,}|[TGGACT]{4,}|[CGCCTG]{4,}|[AACGCG]{4,}|[TGCCTC]{4,}|[TGTGAC]{4,}|[ATATAG]{4,}|[CGGTGA]{4,}|[GAGGCA]{4,}|[GCATAA]{4,}|[ATACGC]{4,}|[ACCTTT]{4,}|[CTAGAT]{4,}|[GAGTTA]{4,}|[GTGGCG]{4,}|[ATCAGA]{4,}|[TAAAAG]{4,}|[GGAGGC]{4,}|[CTACCC]{4,}|[CAGTCA]{4,}|[TCCTAG]{4,}|[TGAACG]{4,}|[GCGCTA]{4,}|[GCCGAA]{4,}|[CACCGT]{4,}|[AGTGTT]{4,}|[ATAGGC]{4,}|[CACTCT]{4,}|[GTCAAG]{4,}|[AAGCGC]{4,}|[TGAAGG]{4,}|[ACTCCG]{4,}|[CAGGGT]{4,}|[AACATA]{4,}|[GTCCGG]{4,}|[ACCGGT]{4,}|[CTAAGA]{4,}|[CTGATA]{4,}|[TCTCAT]{4,}|[CCAGAC]{4,}|[CCGGGA]{4,}|[AAAGCA]{4,}|[GTTTTC]{4,}|[CTTCTG]{4,}|[GAATTC]{4,}|[CAGTTG]{4,}|[CAACTA]{4,}|[CTTCCT]{4,}|[AGACCT]{4,}|[TGTGAA]{4,}|[TCATAA]{4,}|[TGGGGG]{4,}|[GTTATC]{4,}|[CTAGAC]{4,}|[AATCGT]{4,}|[AGGGCA]{4,}|[TCCGTC]{4,}|[CTAACG]{4,}|[CCCAGA]{4,}|[GCCTCC]{4,}|[GGCCTA]{4,}|[CACCGC]{4,}|[CCACAC]{4,}|[GTACTA]{4,}|[GCCCGC]{4,}|[CGCAGT]{4,}|[TTGATT]{4,}|[ATATCG]{4,}|[AACTCC]{4,}|[ATACAG]{4,}|[TGCGAA]{4,}|[CCATCC]{4,}|[GCTCGC]{4,}|[GCGCGA]{4,}|[CTTACC]{4,}|[GCACGT]{4,}|[AGCACG]{4,}|[TAACTA]{4,}|[CTGGCT]{4,}|[TAGTAA]{4,}|[GTGCAC]{4,}|[CGTGGA]{4,}|[GTTTTA]{4,}|[CCTATC]{4,}|[ACGTCT]{4,}|[AAAGGT]{4,}|[TTATGG]{4,}|[CATTCC]{4,}|[TCCCAT]{4,}|[TGTAAG]{4,}|[GCACCT]{4,}|[ACACGC]{4,}|[CTGTTA]{4,}|[ATTAAG]{4,}|[TTGAAT]{4,}|[AAGGCA]{4,}|[TTCGAA]{4,}|[TACTGG]{4,}|[GTCTCG]{4,}|[AACTTC]{4,}|[ACGCGC]{4,}|[TTAGTC]{4,}|[TGCAGA]{4,}|[CTAGTA]{4,}|[CCGATG]{4,}|[TTGGTG]{4,}|[CCTAGT]{4,}|[CGCATT]{4,}|[GACCAT]{4,}|[GCCTCT]{4,}|[GACTCG]{4,}|[GGCCGG]{4,}|[GAAAAG]{4,}|[CGGGTC]{4,}|[CTAGCT]{4,}|[TAGGGT]{4,}|[CTCAGG]{4,}|[AGGAAT]{4,}|[TTGCCG]{4,}|[GGATGC]{4,}|[TGAATC]{4,}|[GCGTGT]{4,}|[CGCGCA]{4,}|[CGCGCT]{4,}|[CGCTGC]{4,}|[CCTTGT]{4,}|[AAATAA]{4,}|[CTACTT]{4,}|[TCTAAA]{4,}|[TGATTT]{4,}|[CTGTCG]{4,}|[GATTGC]{4,}|[TCTAGG]{4,}|[TACGTT]{4,}|[TTATCA]{4,}|[ACGGGT]{4,}|[CGTCCT]{4,}|[GTCACA]{4,}|[GTTAAA]{4,}|[CTGCCT]{4,}|[GCCGGC]{4,}|[CGTGAG]{4,}|[GGTCGC]{4,}|[CCCCAT]{4,}|[ATAGAA]{4,}|[CTTAGC]{4,}|[AAGGTC]{4,}|[GACCGA]{4,}|[GTGATC]{4,}|[CATGAA]{4,}|[GCTGCT]{4,}|[AACCGC]{4,}|[CAAGTC]{4,}|[CCAGAG]{4,}|[ACATCC]{4,}|[AATAAG]{4,}|[ATTCTT]{4,}|[GGCTAT]{4,}|[CATTAT]{4,}|[GGCGGG]{4,}|[TTTCAC]{4,}|[CGATGT]{4,}|[AGGCGA]{4,}|[ACTCAT]{4,}|[CGCCGT]{4,}|[TCCAGT]{4,}|[GCGTAA]{4,}|[TGGCAC]{4,}|[ATAAAT]{4,}|[TATTGG]{4,}|[CTTGCG]{4,}|[GCTCTC]{4,}|[TAAGAT]{4,}|[GTTAGT]{4,}|[ACGATC]{4,}|[TGCACT]{4,}|[CGTGAC]{4,}|[ATTGTC]{4,}|[AAAAGA]{4,}|[CGCTTT]{4,}|[ATGTAA]{4,}|[ACTAAA]{4,}|[CAACGC]{4,}|[CCAGTT]{4,}|[CATCTA]{4,}|[CTCATC]{4,}|[TACCTT]{4,}|[AAATCG]{4,}|[CACAAT]{4,}|[GCTGGC]{4,}|[TCTGAA]{4,}|[TTGGGT]{4,}|[CAGCGC]{4,}|[AATGCC]{4,}|[CGCTAA]{4,}|[TAAAGA]{4,}|[AATGGG]{4,}|[TAGACC]{4,}|[GAATGA]{4,}|[TGTGCG]{4,}|[ACGTGT]{4,}|[TATGTC]{4,}|[AGGACC]{4,}|[GGACAA]{4,}|[CCATTT]{4,}|[GTAGGT]{4,}|[CCCTTA]{4,}|[CGATAT]{4,}|[TACAGA]{4,}|[TCAACC]{4,}|[TTTTGC]{4,}|[CATGGG]{4,}|[TTGTTC]{4,}|[CGCACC]{4,}|[CCACTT]{4,}|[TGCGTA]{4,}|[AGGGTT]{4,}|[AGTGAC]{4,}|[TATGCC]{4,}|[CAAGCG]{4,}|[AAGACC]{4,}|[GGAGTT]{4,}|[AACCTG]{4,}|[AGCTTG]{4,}|[CGTTAA]{4,}|[CCTACT]{4,}|[GAGCGG]{4,}|[GGCCAC]{4,}|[TCGTGC]{4,}|[CTGCGT]{4,}|[ATAAGC]{4,}|[ACCAGT]{4,}|[GTAAAC]{4,}|[GGTAGC]{4,}|[GCTGGG]{4,}|[GAGGCC]{4,}|[CCATTC]{4,}|[GGAGCT]{4,}|[ACCTAC]{4,}|[CAGACG]{4,}|[TGTTCT]{4,}|[CGAGCC]{4,}|[CGTTTA]{4,}|[GGTTTA]{4,}|[GCGAGA]{4,}|[ACAGGA]{4,}|[ACCGCT]{4,}|[TTTGGT]{4,}|[CGAAAG]{4,}|[TCCATG]{4,}|[GAGTGC]{4,}|[GACTAA]{4,}|[TAGGAA]{4,}|[GAACTC]{4,}|[AATCAA]{4,}|[CTCATT]{4,}|[TGGCTG]{4,}|[TGCCCA]{4,}|[GTAGAA]{4,}|[TAACGC]{4,}|[AATTAC]{4,}|[AATCGG]{4,}|[CACCAA]{4,}|[AGCGCT]{4,}|[AATGTA]{4,}|[CTTTAC]{4,}|[CAATGT]{4,}|[AACACT]{4,}|[TGAATG]{4,}|[GTAAAG]{4,}|[AGTACT]{4,}|[CTCTCT]{4,}|[ACTGCA]{4,}|[CATAGC]{4,}|[GCTTGG]{4,}|[AGGTAC]{4,}|[TCCGCA]{4,}|[GGAAGC]{4,}|[TCACCG]{4,}|[AAACAT]{4,}|[AGGCTT]{4,}|[ACAGCA]{4,}|[CACTAC]{4,}|[CTCGCC]{4,}|[TCCACT]{4,}|[AGAAGA]{4,}|[TGCCGT]{4,}|[CGCGTT]{4,}|[TCGATT]{4,}|[AGCGCC]{4,}|[TTTGAT]{4,}|[CGCGGG]{4,}|[ATGAGA]{4,}|[TTTGCT]{4,}|[CTATAA]{4,}|[ACATTT]{4,}|[CTCTAG]{4,}|[AGGCCT]{4,}|[TCCCGT]{4,}|[TCGACT]{4,}|[TGGAGG]{4,}|[GAGTCG]{4,}|[CCCATC]{4,}|[TCGCAC]{4,}|[TTGAAG]{4,}|[GGTTCA]{4,}|[TGACTA]{4,}|[CGCTGT]{4,}|[TGACTT]{4,}|[GAAGAA]{4,}|[CGGTAG]{4,}|[GCATGG]{4,}|[AATAGC]{4,}|[AACAGT]{4,}|[CACTGA]{4,}|[CGACGA]{4,}|[GATCTA]{4,}|[ATCTTA]{4,}|[CAAAAT]{4,}|[CAGCTT]{4,}|[TAGAAG]{4,}|[ATCGAC]{4,}|[GATCCT]{4,}|[ACAGAT]{4,}|[GCGTAC]{4,}|[GACTCA]{4,}|[TGCAAG]{4,}|[TGACAA]{4,}|[GGCCGA]{4,}|[TAGCCT]{4,}|[TCTCGA]{4,}|[GCCATG]{4,}|[AGCTAA]{4,}|[AGATTC]{4,}|[CGACCC]{4,}|[CTACGT]{4,}|[TTGCCA]{4,}|[ACGAGG]{4,}|[TCTTAT]{4,}|[AGCCAC]{4,}|[CGGCCT]{4,}|[AGGGAA]{4,}|[TACGAG]{4,}|[GGCGCG]{4,}|[TGAGAG]{4,}|[GGTGCC]{4,}|[ACTTTC]{4,}|[CAACGA]{4,}|[CAGCGT]{4,}|[ACATAC]{4,}|[CTCTGC]{4,}|[CACAAC]{4,}|[ATTTGA]{4,}|[CCTATT]{4,}|[GTGCGA]{4,}|[GGGGAA]{4,}|[TATACG]{4,}|[ACTCGG]{4,}|[TCAACT]{4,}|[CGCCAG]{4,}|[TTACGA]{4,}|[CCCGAC]{4,}|[GATTCT]{4,}|[ATTAGG]{4,}|[ATAGTT]{4,}|[TTAATA]{4,}|[CAATAA]{4,}|[TTTTGA]{4,}|[GTGTGT]{4,}|[GGCAGA]{4,}|[CGGCTT]{4,}|[TTAAAG]{4,}|[AAGTGT]{4,}|[AGTTAT]{4,}|[GGTGTC]{4,}|[AGTAAG]{4,}|[TACCCT]{4,}|[GCTTCG]{4,}|[ATAGCT]{4,}|[ATTCCT]{4,}|[TGACCC]{4,}|[CGGTCA]{4,}|[GGGTAC]{4,}|[ATCCCA]{4,}|[GATGTC]{4,}|[GTGGGC]{4,}|[TCTTGC]{4,}|[ACCTAA]{4,}|[GTGATT]{4,}|[AGTTTT]{4,}|[CGGAGG]{4,}|[AGTTTA]{4,}|[CGGGGG]{4,}|[GACTTT]{4,}|[AGATGT]{4,}|[TCTGGC]{4,}|[GACGAC]{4,}|[CCGCAG]{4,}|[AACGCA]{4,}|[ATTGGA]{4,}|[CCTCGT]{4,}|[GTATTC]{4,}|[TTTCAT]{4,}|[CGATGC]{4,}|[GAGGTG]{4,}|[CTCTCC]{4,}|[CAGTCT]{4,}|[GGGGCG]{4,}|[AACACC]{4,}|[ACACTC]{4,}|[CTCGAC]{4,}|[ATAACT]{4,}|[GCCCTT]{4,}|[CTTGAT]{4,}|[CTCCGT]{4,}|[TCTCTA]{4,}|[ACTGCC]{4,}|[GGGTAG]{4,}|[GTTGAT]{4,}|[AATTAT]{4,}|[GCAACT]{4,}|[ATGAAC]{4,}|\n",
      "5460\n"
     ]
    }
   ],
   "source": [
    "nucleotides = 'ATCGATCGATCGATCGATCGATCGATCG'   \n",
    "regex = []\n",
    "for i in range(1, 7, 1):    \n",
    "    for j in set(list(permutations(nucleotides, i))): \n",
    "        to_find = ''.join([i for i in j])\n",
    "        regex.append(\"[{}]{{4,}}|\".format(to_find))\n",
    "final_regex = ''.join([k for k in regex])\n",
    "print(final_regex)\n",
    "print(len(regex))"
   ]
  },
  {
   "cell_type": "markdown",
   "metadata": {},
   "source": [
    "The regex pattern is applied to each sequence. The number of occurrences of each repetitive region is tallied for each sequence and merged into a dataframe, where location corresponds to the sequence identifier, and size refers to the number of repetitive occurrences found using the algorithm above. "
   ]
  },
  {
   "cell_type": "code",
   "execution_count": 28,
   "metadata": {},
   "outputs": [],
   "source": [
    "repeats_len = []\n",
    "repeats_indices = []\n",
    "for i in sequences: \n",
    "    find = re.findall(final_regex, i)\n",
    "    repeats_len.append(len(find))\n",
    "    repeats_indices.append(sequences.index(i))  "
   ]
  },
  {
   "cell_type": "code",
   "execution_count": 29,
   "metadata": {},
   "outputs": [
    {
     "name": "stdout",
     "output_type": "stream",
     "text": [
      "    location  size\n",
      "4          4   224\n",
      "46        48   148\n",
      "76        79   133\n",
      "43        45   124\n",
      "45        47   121\n",
      "..       ...   ...\n",
      "84        88    19\n",
      "78        81    18\n",
      "72        75    16\n",
      "89        93    14\n",
      "47        49    13\n",
      "\n",
      "[95 rows x 2 columns]\n"
     ]
    }
   ],
   "source": [
    "repeats_frame = pd.DataFrame(list(zip(repeats_indices, repeats_len)), columns = ['location', 'size'])\n",
    "repeats_frame = pd.DataFrame(repeats_frame.groupby(['location'],as_index=False).sum()\n",
    "                             .sort_values(by='size',ascending=False))\n",
    "print(repeats_frame)"
   ]
  },
  {
   "cell_type": "markdown",
   "metadata": {},
   "source": [
    "The complexity score is calculated by dividing the number of unique substring occurrences by the number of repetitive elements found using regex, again divided by the sequence length as a normalizing factor. In this manner, higher scores respond to sequences that have a greater number of unique substrings as well as fewer occurrences of repetitive regions. indicating the higher scores correspond to higher predicted complexity. Furthermore the score is reflective of differences in sequence length which might contribute to overall complexity. "
   ]
  },
  {
   "cell_type": "code",
   "execution_count": 30,
   "metadata": {},
   "outputs": [],
   "source": [
    "final_frame= repeats_frame.merge(full_frame.set_index('location'), on='location', how='inner')\n",
    "final_frame['score'] = final_frame['unique_occurrences'] * (final_frame['size']/final_frame['length']) / 1000"
   ]
  },
  {
   "cell_type": "markdown",
   "metadata": {},
   "source": [
    "A simple scatterplot is used to visualize the relationship between sequence GC content and its complexity score. "
   ]
  },
  {
   "cell_type": "code",
   "execution_count": 31,
   "metadata": {},
   "outputs": [
    {
     "data": {
      "image/png": "[encoded data removed]",
      "text/plain": [
       "<Figure size 432x288 with 1 Axes>"
      ]
     },
     "metadata": {
      "needs_background": "light"
     },
     "output_type": "display_data"
    }
   ],
   "source": [
    "plt.scatter(final_frame.gc_content, final_frame.score)\n",
    "plt.xlabel(\"GC Content (%)\")\n",
    "plt.ylabel(\"Complexity Score\")\n",
    "plt.show()"
   ]
  },
  {
   "cell_type": "code",
   "execution_count": 32,
   "metadata": {},
   "outputs": [
    {
     "name": "stdout",
     "output_type": "stream",
     "text": [
      "Sequence_27\n",
      "GC Content: 60.54%\tComplexity Score: 26.47\n",
      "Sequence_55\n",
      "GC Content: 60.02%\tComplexity Score: 12.45\n",
      "Sequence_73\n",
      "GC Content: 59.22%\tComplexity Score: 22.4\n",
      "Sequence_94\n",
      "GC Content: 59.02%\tComplexity Score: 38.83\n",
      "Sequence_42\n",
      "GC Content: 58.96%\tComplexity Score: 27.9\n",
      "Sequence_97\n",
      "GC Content: 58.92%\tComplexity Score: 26.88\n",
      "Sequence_20\n",
      "GC Content: 58.86%\tComplexity Score: 17.44\n",
      "Sequence_14\n",
      "GC Content: 58.82%\tComplexity Score: 44.8\n",
      "Sequence_19\n",
      "GC Content: 58.79%\tComplexity Score: 27.13\n",
      "Sequence_76\n",
      "GC Content: 58.52%\tComplexity Score: 19.41\n",
      "Sequence_74\n",
      "GC Content: 58.47%\tComplexity Score: 29.9\n",
      "Sequence_24\n",
      "GC Content: 58.42%\tComplexity Score: 18.92\n",
      "Sequence_51\n",
      "GC Content: 58.35%\tComplexity Score: 32.95\n",
      "Sequence_57\n",
      "GC Content: 58.33%\tComplexity Score: 37.34\n",
      "Sequence_62\n",
      "GC Content: 58.23%\tComplexity Score: 17.92\n",
      "Sequence_25\n",
      "GC Content: 58.23%\tComplexity Score: 32.36\n",
      "Sequence_8\n",
      "GC Content: 58.23%\tComplexity Score: 10.95\n",
      "Sequence_37\n",
      "GC Content: 58.05%\tComplexity Score: 15.98\n",
      "Sequence_33\n",
      "GC Content: 57.93%\tComplexity Score: 25.89\n",
      "Sequence_53\n",
      "GC Content: 57.87%\tComplexity Score: 50.33\n",
      "Sequence_7\n",
      "GC Content: 57.83%\tComplexity Score: 23.4\n",
      "Sequence_61\n",
      "GC Content: 57.74%\tComplexity Score: 44.53\n",
      "Sequence_91\n",
      "GC Content: 57.67%\tComplexity Score: 28.91\n",
      "Sequence_83\n",
      "GC Content: 57.63%\tComplexity Score: 30.86\n",
      "Sequence_48\n",
      "GC Content: 57.61%\tComplexity Score: 74.35\n",
      "Sequence_31\n",
      "GC Content: 57.47%\tComplexity Score: 46.68\n",
      "Sequence_5\n",
      "GC Content: 57.47%\tComplexity Score: 35.64\n",
      "Sequence_12\n",
      "GC Content: 57.44%\tComplexity Score: 23.02\n",
      "Sequence_89\n",
      "GC Content: 57.43%\tComplexity Score: 12.45\n",
      "Sequence_80\n",
      "GC Content: 57.31%\tComplexity Score: 23.11\n",
      "Sequence_65\n",
      "GC Content: 57.27%\tComplexity Score: 23.42\n",
      "Sequence_46\n",
      "GC Content: 57.24%\tComplexity Score: 40.03\n",
      "Sequence_54\n",
      "GC Content: 57.24%\tComplexity Score: 15.01\n",
      "Sequence_17\n",
      "GC Content: 57.17%\tComplexity Score: 46.34\n",
      "Sequence_59\n",
      "GC Content: 57.17%\tComplexity Score: 14.56\n",
      "Sequence_98\n",
      "GC Content: 57.13%\tComplexity Score: 13.94\n",
      "Sequence_88\n",
      "GC Content: 57.13%\tComplexity Score: 9.46\n",
      "Sequence_39\n",
      "GC Content: 57.06%\tComplexity Score: 17.48\n",
      "Sequence_13\n",
      "GC Content: 57.01%\tComplexity Score: 11.47\n",
      "Sequence_2\n",
      "GC Content: 57.0%\tComplexity Score: 18.0\n",
      "Sequence_36\n",
      "GC Content: 56.87%\tComplexity Score: 47.84\n",
      "Sequence_90\n",
      "GC Content: 56.83%\tComplexity Score: 27.88\n",
      "Sequence_22\n",
      "GC Content: 56.83%\tComplexity Score: 41.32\n",
      "Sequence_70\n",
      "GC Content: 56.83%\tComplexity Score: 15.93\n",
      "Sequence_3\n",
      "GC Content: 56.77%\tComplexity Score: 18.94\n",
      "Sequence_29\n",
      "GC Content: 56.65%\tComplexity Score: 18.01\n",
      "Sequence_16\n",
      "GC Content: 56.63%\tComplexity Score: 24.89\n",
      "Sequence_44\n",
      "GC Content: 56.63%\tComplexity Score: 17.92\n",
      "Sequence_43\n",
      "GC Content: 56.57%\tComplexity Score: 10.96\n",
      "Sequence_52\n",
      "GC Content: 56.57%\tComplexity Score: 24.92\n",
      "Sequence_4\n",
      "GC Content: 56.53%\tComplexity Score: 111.52\n",
      "Sequence_10\n",
      "GC Content: 56.53%\tComplexity Score: 23.4\n",
      "Sequence_64\n",
      "GC Content: 56.52%\tComplexity Score: 17.46\n",
      "Sequence_26\n",
      "GC Content: 56.47%\tComplexity Score: 38.37\n",
      "Sequence_28\n",
      "GC Content: 56.37%\tComplexity Score: 49.84\n",
      "Sequence_11\n",
      "GC Content: 56.37%\tComplexity Score: 36.38\n",
      "Sequence_32\n",
      "GC Content: 56.36%\tComplexity Score: 14.48\n",
      "Sequence_75\n",
      "GC Content: 56.35%\tComplexity Score: 8.01\n",
      "Sequence_60\n",
      "GC Content: 56.33%\tComplexity Score: 42.32\n",
      "Sequence_47\n",
      "GC Content: 56.33%\tComplexity Score: 60.24\n",
      "Sequence_6\n",
      "GC Content: 56.31%\tComplexity Score: 15.0\n",
      "Sequence_9\n",
      "GC Content: 56.18%\tComplexity Score: 15.45\n",
      "Sequence_58\n",
      "GC Content: 56.16%\tComplexity Score: 45.44\n",
      "Sequence_35\n",
      "GC Content: 56.05%\tComplexity Score: 40.03\n",
      "Sequence_77\n",
      "GC Content: 56.03%\tComplexity Score: 52.77\n",
      "Sequence_15\n",
      "GC Content: 56.03%\tComplexity Score: 14.93\n",
      "Sequence_41\n",
      "GC Content: 56.03%\tComplexity Score: 16.93\n",
      "Sequence_56\n",
      "GC Content: 55.93%\tComplexity Score: 14.94\n",
      "Sequence_38\n",
      "GC Content: 55.93%\tComplexity Score: 40.82\n",
      "Sequence_50\n",
      "GC Content: 55.93%\tComplexity Score: 18.92\n",
      "Sequence_66\n",
      "GC Content: 55.92%\tComplexity Score: 30.93\n",
      "Sequence_84\n",
      "GC Content: 55.78%\tComplexity Score: 19.44\n",
      "Sequence_82\n",
      "GC Content: 55.53%\tComplexity Score: 19.91\n",
      "Sequence_34\n",
      "GC Content: 55.47%\tComplexity Score: 46.44\n",
      "Sequence_79\n",
      "GC Content: 55.41%\tComplexity Score: 66.49\n",
      "Sequence_92\n",
      "GC Content: 55.38%\tComplexity Score: 24.42\n",
      "Sequence_71\n",
      "GC Content: 55.33%\tComplexity Score: 56.25\n",
      "Sequence_45\n",
      "GC Content: 55.28%\tComplexity Score: 61.8\n",
      "Sequence_81\n",
      "GC Content: 55.18%\tComplexity Score: 8.97\n",
      "Sequence_86\n",
      "GC Content: 55.08%\tComplexity Score: 43.35\n",
      "Sequence_23\n",
      "GC Content: 54.97%\tComplexity Score: 21.47\n",
      "Sequence_96\n",
      "GC Content: 54.95%\tComplexity Score: 15.04\n",
      "Sequence_78\n",
      "GC Content: 54.88%\tComplexity Score: 55.32\n",
      "Sequence_85\n",
      "GC Content: 54.74%\tComplexity Score: 45.8\n",
      "Sequence_93\n",
      "GC Content: 54.64%\tComplexity Score: 6.97\n",
      "Sequence_67\n",
      "GC Content: 54.58%\tComplexity Score: 18.44\n",
      "Sequence_63\n",
      "GC Content: 54.48%\tComplexity Score: 41.37\n",
      "Sequence_49\n",
      "GC Content: 54.46%\tComplexity Score: 6.5\n",
      "Sequence_1\n",
      "GC Content: 54.11%\tComplexity Score: 51.59\n",
      "Sequence_95\n",
      "GC Content: 53.78%\tComplexity Score: 36.46\n",
      "Sequence_18\n",
      "GC Content: 53.6%\tComplexity Score: 47.28\n",
      "Sequence_68\n",
      "GC Content: 53.44%\tComplexity Score: 17.92\n",
      "Sequence_21\n",
      "GC Content: 53.34%\tComplexity Score: 28.87\n",
      "Sequence_72\n",
      "GC Content: 53.08%\tComplexity Score: 20.97\n"
     ]
    }
   ],
   "source": [
    "sorted_frame = pd.DataFrame(final_frame).sort_values(by='gc_content', ascending=False)\n",
    "sorted_frame.location = sorted_frame.location.astype(str)\n",
    "sorted_frame.gc_content = sorted_frame.gc_content.round(2)\n",
    "sorted_frame.score = sorted_frame.score.round(2)\n",
    "for index, row in sorted_frame.iterrows():\n",
    "    print(\"Sequence_{}\".format(row['location']))\n",
    "    print(\"GC Content: {}%\\tComplexity Score: {}\".format(row['gc_content'], row['score']))"
   ]
  },
  {
   "cell_type": "markdown",
   "metadata": {},
   "source": [
    "The final output for each sequence is exported into a txt file in the requested format. "
   ]
  },
  {
   "cell_type": "code",
   "execution_count": 27,
   "metadata": {},
   "outputs": [],
   "source": [
    "with open(\"complexity_scores.txt\", \"w\") as handle: \n",
    "    for index, row in sorted_frame.iterrows():\n",
    "        handle.write(\"Sequence_{}\\n\".format(row['location']))\n",
    "        handle.write(\"GC Content: {}%\\tComplexity Score: {}\\n\".format(row['gc_content'], row['score']))"
   ]
  }
 ],
 "metadata": {
  "kernelspec": {
   "display_name": "Python 3",
   "language": "python",
   "name": "python3"
  },
  "language_info": {
   "codemirror_mode": {
    "name": "ipython",
    "version": 3
   },
   "file_extension": ".py",
   "mimetype": "text/x-python",
   "name": "python",
   "nbconvert_exporter": "python",
   "pygments_lexer": "ipython3",
   "version": "3.7.3"
  }
 },
 "nbformat": 4,
 "nbformat_minor": 4
}
